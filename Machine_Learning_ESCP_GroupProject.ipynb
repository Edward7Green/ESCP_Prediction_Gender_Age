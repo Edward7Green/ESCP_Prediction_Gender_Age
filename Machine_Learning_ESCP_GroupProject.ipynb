{
 "cells": [
  {
   "cell_type": "code",
   "execution_count": 4,
   "metadata": {},
   "outputs": [
    {
     "name": "stderr",
     "output_type": "stream",
     "text": [
      "[nltk_data] Downloading package punkt to\n",
      "[nltk_data]     /Users/antoineguerrini/nltk_data...\n",
      "[nltk_data]   Package punkt is already up-to-date!\n",
      "[nltk_data] Downloading package averaged_perceptron_tagger to\n",
      "[nltk_data]     /Users/antoineguerrini/nltk_data...\n",
      "[nltk_data]   Package averaged_perceptron_tagger is already up-to-\n",
      "[nltk_data]       date!\n"
     ]
    },
    {
     "data": {
      "text/plain": [
       "True"
      ]
     },
     "execution_count": 4,
     "metadata": {},
     "output_type": "execute_result"
    }
   ],
   "source": [
    "import pandas as pd\n",
    "import numpy as np\n",
    "import nltk\n",
    "from nltk.tokenize import word_tokenize\n",
    "nltk.download('punkt')\n",
    "nltk.download('averaged_perceptron_tagger')"
   ]
  },
  {
   "cell_type": "code",
   "execution_count": 455,
   "metadata": {},
   "outputs": [],
   "source": [
    "#d = pd.read_csv('/Users/antoineguerrini/Desktop/Train_ML.csv', error_bad_lines=False)"
   ]
  },
  {
   "cell_type": "code",
   "execution_count": 456,
   "metadata": {},
   "outputs": [],
   "source": [
    "#snipet = d.sample(frac=0.045, replace=True, random_state=42)"
   ]
  },
  {
   "cell_type": "code",
   "execution_count": 457,
   "metadata": {},
   "outputs": [],
   "source": [
    "#snipet.to_excel('Snipet_ML.xlsx')"
   ]
  },
  {
   "cell_type": "code",
   "execution_count": 5,
   "metadata": {},
   "outputs": [],
   "source": [
    "df = pd.read_excel('/Users/antoineguerrini/SnipetML.xlsx', error_bad_lines=False)"
   ]
  },
  {
   "cell_type": "code",
   "execution_count": 6,
   "metadata": {},
   "outputs": [],
   "source": [
    "#del df['Unnamed: 0']"
   ]
  },
  {
   "cell_type": "code",
   "execution_count": 7,
   "metadata": {},
   "outputs": [
    {
     "data": {
      "text/plain": [
       "Unnamed: 0       0\n",
       "ID               0\n",
       "keywords      1114\n",
       "age              0\n",
       "sex              0\n",
       "dtype: int64"
      ]
     },
     "execution_count": 7,
     "metadata": {},
     "output_type": "execute_result"
    }
   ],
   "source": [
    "df.isnull().sum()"
   ]
  },
  {
   "cell_type": "code",
   "execution_count": 8,
   "metadata": {},
   "outputs": [
    {
     "data": {
      "text/plain": [
       "(8886, 5)"
      ]
     },
     "execution_count": 8,
     "metadata": {},
     "output_type": "execute_result"
    }
   ],
   "source": [
    "df.dropna(subset=['keywords'], inplace=True)\n",
    "df.shape"
   ]
  },
  {
   "cell_type": "code",
   "execution_count": 9,
   "metadata": {},
   "outputs": [
    {
     "data": {
      "text/plain": [
       "Unnamed: 0     int64\n",
       "ID             int64\n",
       "keywords      object\n",
       "age            int64\n",
       "sex           object\n",
       "dtype: object"
      ]
     },
     "execution_count": 9,
     "metadata": {},
     "output_type": "execute_result"
    }
   ],
   "source": [
    "df.dtypes"
   ]
  },
  {
   "cell_type": "code",
   "execution_count": 10,
   "metadata": {},
   "outputs": [
    {
     "data": {
      "text/plain": [
       "pandas.core.series.Series"
      ]
     },
     "execution_count": 10,
     "metadata": {},
     "output_type": "execute_result"
    }
   ],
   "source": [
    "type(df[:1][\"keywords\"])"
   ]
  },
  {
   "cell_type": "markdown",
   "metadata": {},
   "source": [
    "### Data processing"
   ]
  },
  {
   "cell_type": "markdown",
   "metadata": {},
   "source": [
    "In this section we aim to transform the variable \"keywords\" in order to make it processable for further feature engineerings."
   ]
  },
  {
   "cell_type": "code",
   "execution_count": 11,
   "metadata": {},
   "outputs": [],
   "source": [
    "from nltk.corpus import stopwords\n",
    "c = stopwords.words('french')"
   ]
  },
  {
   "cell_type": "code",
   "execution_count": 12,
   "metadata": {},
   "outputs": [],
   "source": [
    "import string\n",
    "nopunc = [char for char in df if char not in string.punctuation]"
   ]
  },
  {
   "cell_type": "markdown",
   "metadata": {},
   "source": [
    "We create a function which will \n",
    "    \n",
    "    1) Split the words and the occurences \n",
    "    \n",
    "    2) Assign them to two lists \n",
    "    \n",
    "    3) Create a sentence based on words * occurences \n",
    "    \n",
    "    4) Discard the \"stopword\""
   ]
  },
  {
   "cell_type": "code",
   "execution_count": 13,
   "metadata": {},
   "outputs": [],
   "source": [
    "def processing(x):\n",
    "    list_subset =[]\n",
    "    for item in x:\n",
    "        item = x.split(';') \n",
    "\n",
    "    for i in range (0,len(item)):\n",
    "        list_subset = list_subset+ item[i].split(':')\n",
    "        \n",
    "    for i in range (1,len(list_subset)):\n",
    "        if i%2 !=0:\n",
    "            list_subset[i] = int(list_subset[i])\n",
    "            \n",
    "    integer = [x for x in list_subset if isinstance(x, int)]\n",
    "    string = [x for x in list_subset if isinstance(x, str)]\n",
    "    \n",
    "    word = sum([[s] * n for s, n in zip(string, integer)], [])\n",
    "    number = [x for x in word if not any(c.isdigit() for c in x)]\n",
    "    \n",
    "    final_selection = [y for y in number if word not in c]\n",
    "\n",
    "    return final_selection"
   ]
  },
  {
   "cell_type": "code",
   "execution_count": 14,
   "metadata": {},
   "outputs": [],
   "source": [
    "df['Full_Wording'] = df[\"keywords\"].apply(processing)"
   ]
  },
  {
   "cell_type": "markdown",
   "metadata": {},
   "source": [
    "# Feature engineering"
   ]
  },
  {
   "cell_type": "markdown",
   "metadata": {},
   "source": [
    "In this section we want to create relevant features in order to support our modeling. In order to achieve that objective, we used Counter and Nltk libraries. We parallelly observed the data with visualisations to assess the impact of our findings. (Please refer to the pdf attached to this document).\n",
    "\n",
    "..\n",
    "\n"
   ]
  },
  {
   "cell_type": "markdown",
   "metadata": {},
   "source": [
    "### 1) Extraction of the wording's length"
   ]
  },
  {
   "cell_type": "code",
   "execution_count": 15,
   "metadata": {},
   "outputs": [],
   "source": [
    "from collections import Counter\n",
    "length = []\n",
    "for i in df['Full_Wording']:\n",
    "    a = len(i)+1\n",
    "    length.append(a)"
   ]
  },
  {
   "cell_type": "code",
   "execution_count": 16,
   "metadata": {},
   "outputs": [],
   "source": [
    "df['Length'] = length"
   ]
  },
  {
   "cell_type": "code",
   "execution_count": 59,
   "metadata": {},
   "outputs": [
    {
     "data": {
      "image/png": "[encoded data removed]",
      "text/plain": [
       "<IPython.core.display.Image object>"
      ]
     },
     "execution_count": 59,
     "metadata": {},
     "output_type": "execute_result"
    }
   ],
   "source": [
    "from IPython.display import Image\n",
    "Image(filename=\"img/length_gender.png\")"
   ]
  },
  {
   "cell_type": "markdown",
   "metadata": {},
   "source": [
    "   "
   ]
  },
  {
   "cell_type": "code",
   "execution_count": 58,
   "metadata": {},
   "outputs": [
    {
     "data": {
      "image/png": "[encoded data removed]",
      "text/plain": [
       "<IPython.core.display.Image object>"
      ]
     },
     "execution_count": 58,
     "metadata": {},
     "output_type": "execute_result"
    }
   ],
   "source": [
    "from IPython.display import Image\n",
    "Image(filename=\"img/distance.png\")"
   ]
  },
  {
   "cell_type": "markdown",
   "metadata": {},
   "source": [
    "  "
   ]
  },
  {
   "cell_type": "markdown",
   "metadata": {},
   "source": [
    "## 2) Extraction of the words and occurences"
   ]
  },
  {
   "cell_type": "code",
   "execution_count": 17,
   "metadata": {},
   "outputs": [],
   "source": [
    "Occurence = []\n",
    "Word = []\n",
    "for i in df['Full_Wording']:\n",
    "    b = Counter(i).values()\n",
    "    c = Counter(i).keys()\n",
    "    Occurence.append(b)\n",
    "    Word.append(c)"
   ]
  },
  {
   "cell_type": "code",
   "execution_count": 18,
   "metadata": {},
   "outputs": [],
   "source": [
    "df[\"Occurence\"] = Occurence\n",
    "df[\"Word\"] = Word"
   ]
  },
  {
   "cell_type": "markdown",
   "metadata": {},
   "source": [
    "### 3) Extraction of the unique value"
   ]
  },
  {
   "cell_type": "code",
   "execution_count": 19,
   "metadata": {},
   "outputs": [],
   "source": [
    "Number_Unique = []\n",
    "for i in df.Word:\n",
    "    e = len(Counter(i).keys())\n",
    "    Number_Unique.append(e)"
   ]
  },
  {
   "cell_type": "code",
   "execution_count": 20,
   "metadata": {},
   "outputs": [],
   "source": [
    "df[\"Unique_Value\"] = Number_Unique"
   ]
  },
  {
   "cell_type": "code",
   "execution_count": 57,
   "metadata": {},
   "outputs": [
    {
     "data": {
      "image/png": "[encoded data removed]",
      "text/plain": [
       "<IPython.core.display.Image object>"
      ]
     },
     "execution_count": 57,
     "metadata": {},
     "output_type": "execute_result"
    }
   ],
   "source": [
    "from IPython.display import Image\n",
    "Image(filename=\"img/Unique.png\")"
   ]
  },
  {
   "cell_type": "markdown",
   "metadata": {},
   "source": [
    "### 4) Calculation to compare from the benchmark"
   ]
  },
  {
   "cell_type": "code",
   "execution_count": 21,
   "metadata": {},
   "outputs": [],
   "source": [
    "mean_unique = df['Unique_Value'].mean()\n",
    "std_unique = df['Unique_Value'].std()\n",
    "\n",
    "mean_length = df['Length'].mean()\n",
    "std_length = df['Length'].std()"
   ]
  },
  {
   "cell_type": "code",
   "execution_count": 22,
   "metadata": {},
   "outputs": [],
   "source": [
    "df['Unique_from_the_Avg'] = df['Unique_Value'] - mean_unique\n",
    "df['Unique_volatility'] = df['Unique_Value'] / std_unique\n",
    "\n",
    "df['Length_from_the_Avg'] = df['Length'] - mean_length\n",
    "df['Length_volatility'] = df['Unique_Value'] / std_length"
   ]
  },
  {
   "cell_type": "code",
   "execution_count": 23,
   "metadata": {},
   "outputs": [
    {
     "data": {
      "text/html": [
       "<div>\n",
       "<style scoped>\n",
       "    .dataframe tbody tr th:only-of-type {\n",
       "        vertical-align: middle;\n",
       "    }\n",
       "\n",
       "    .dataframe tbody tr th {\n",
       "        vertical-align: top;\n",
       "    }\n",
       "\n",
       "    .dataframe thead th {\n",
       "        text-align: right;\n",
       "    }\n",
       "</style>\n",
       "<table border=\"1\" class=\"dataframe\">\n",
       "  <thead>\n",
       "    <tr style=\"text-align: right;\">\n",
       "      <th></th>\n",
       "      <th>Unnamed: 0</th>\n",
       "      <th>ID</th>\n",
       "      <th>keywords</th>\n",
       "      <th>age</th>\n",
       "      <th>sex</th>\n",
       "      <th>Full_Wording</th>\n",
       "      <th>Length</th>\n",
       "      <th>Occurence</th>\n",
       "      <th>Word</th>\n",
       "      <th>Unique_Value</th>\n",
       "      <th>Unique_from_the_Avg</th>\n",
       "      <th>Unique_volatility</th>\n",
       "      <th>Length_from_the_Avg</th>\n",
       "      <th>Length_volatility</th>\n",
       "    </tr>\n",
       "  </thead>\n",
       "  <tbody>\n",
       "    <tr>\n",
       "      <th>0</th>\n",
       "      <td>5571877</td>\n",
       "      <td>4814904</td>\n",
       "      <td>les:1;high:1;leur:1;agent:1;des:1;comme:1;deve...</td>\n",
       "      <td>42</td>\n",
       "      <td>M</td>\n",
       "      <td>[les, high, leur, agent, des, comme, developpe...</td>\n",
       "      <td>14</td>\n",
       "      <td>(1, 1, 1, 1, 1, 1, 1, 1, 1, 1, 1, 1, 1)</td>\n",
       "      <td>(les, high, leur, agent, des, comme, developpe...</td>\n",
       "      <td>13</td>\n",
       "      <td>-5.258384</td>\n",
       "      <td>0.387096</td>\n",
       "      <td>-30.289219</td>\n",
       "      <td>0.108084</td>\n",
       "    </tr>\n",
       "    <tr>\n",
       "      <th>1</th>\n",
       "      <td>2029092</td>\n",
       "      <td>232820</td>\n",
       "      <td>anteflechi:1;guerlus:1;forum:1;affich:1;defini...</td>\n",
       "      <td>48</td>\n",
       "      <td>F</td>\n",
       "      <td>[anteflechi, guerlus, forum, affich, definitio...</td>\n",
       "      <td>11</td>\n",
       "      <td>(1, 1, 1, 1, 1, 1, 2, 1, 1)</td>\n",
       "      <td>(anteflechi, guerlus, forum, affich, definitio...</td>\n",
       "      <td>9</td>\n",
       "      <td>-9.258384</td>\n",
       "      <td>0.267990</td>\n",
       "      <td>-33.289219</td>\n",
       "      <td>0.074827</td>\n",
       "    </tr>\n",
       "    <tr>\n",
       "      <th>2</th>\n",
       "      <td>2718399</td>\n",
       "      <td>78339</td>\n",
       "      <td>epaule:1;forum:1;affich:1;craquements:1;douleu...</td>\n",
       "      <td>47</td>\n",
       "      <td>F</td>\n",
       "      <td>[epaule, forum, affich, craquements, douleurs]</td>\n",
       "      <td>6</td>\n",
       "      <td>(1, 1, 1, 1, 1)</td>\n",
       "      <td>(epaule, forum, affich, craquements, douleurs)</td>\n",
       "      <td>5</td>\n",
       "      <td>-13.258384</td>\n",
       "      <td>0.148883</td>\n",
       "      <td>-38.289219</td>\n",
       "      <td>0.041571</td>\n",
       "    </tr>\n",
       "    <tr>\n",
       "      <th>4</th>\n",
       "      <td>1209891</td>\n",
       "      <td>183059</td>\n",
       "      <td>tesla:1;embarrasse:1;ouragan:1;photo:10;ses:1;...</td>\n",
       "      <td>47</td>\n",
       "      <td>F</td>\n",
       "      <td>[tesla, embarrasse, ouragan, photo, photo, pho...</td>\n",
       "      <td>98</td>\n",
       "      <td>(1, 1, 1, 10, 1, 10, 1, 1, 10, 10, 1, 1, 1, 10...</td>\n",
       "      <td>(tesla, embarrasse, ouragan, photo, ses, prono...</td>\n",
       "      <td>25</td>\n",
       "      <td>6.741616</td>\n",
       "      <td>0.744416</td>\n",
       "      <td>53.710781</td>\n",
       "      <td>0.207853</td>\n",
       "    </tr>\n",
       "    <tr>\n",
       "      <th>5</th>\n",
       "      <td>763427</td>\n",
       "      <td>641104</td>\n",
       "      <td>journal:1;jean:1;kardashian:1;laura:1;enfants:...</td>\n",
       "      <td>54</td>\n",
       "      <td>F</td>\n",
       "      <td>[journal, jean, kardashian, laura, enfants, le...</td>\n",
       "      <td>404</td>\n",
       "      <td>(1, 1, 1, 1, 1, 43, 1, 1, 1, 1, 1, 1, 1, 43, 1...</td>\n",
       "      <td>(journal, jean, kardashian, laura, enfants, le...</td>\n",
       "      <td>106</td>\n",
       "      <td>87.741616</td>\n",
       "      <td>3.156322</td>\n",
       "      <td>359.710781</td>\n",
       "      <td>0.881299</td>\n",
       "    </tr>\n",
       "  </tbody>\n",
       "</table>\n",
       "</div>"
      ],
      "text/plain": [
       "   Unnamed: 0       ID                                           keywords  \\\n",
       "0     5571877  4814904  les:1;high:1;leur:1;agent:1;des:1;comme:1;deve...   \n",
       "1     2029092   232820  anteflechi:1;guerlus:1;forum:1;affich:1;defini...   \n",
       "2     2718399    78339  epaule:1;forum:1;affich:1;craquements:1;douleu...   \n",
       "4     1209891   183059  tesla:1;embarrasse:1;ouragan:1;photo:10;ses:1;...   \n",
       "5      763427   641104  journal:1;jean:1;kardashian:1;laura:1;enfants:...   \n",
       "\n",
       "   age sex                                       Full_Wording  Length  \\\n",
       "0   42   M  [les, high, leur, agent, des, comme, developpe...      14   \n",
       "1   48   F  [anteflechi, guerlus, forum, affich, definitio...      11   \n",
       "2   47   F     [epaule, forum, affich, craquements, douleurs]       6   \n",
       "4   47   F  [tesla, embarrasse, ouragan, photo, photo, pho...      98   \n",
       "5   54   F  [journal, jean, kardashian, laura, enfants, le...     404   \n",
       "\n",
       "                                           Occurence  \\\n",
       "0            (1, 1, 1, 1, 1, 1, 1, 1, 1, 1, 1, 1, 1)   \n",
       "1                        (1, 1, 1, 1, 1, 1, 2, 1, 1)   \n",
       "2                                    (1, 1, 1, 1, 1)   \n",
       "4  (1, 1, 1, 10, 1, 10, 1, 1, 10, 10, 1, 1, 1, 10...   \n",
       "5  (1, 1, 1, 1, 1, 43, 1, 1, 1, 1, 1, 1, 1, 43, 1...   \n",
       "\n",
       "                                                Word  Unique_Value  \\\n",
       "0  (les, high, leur, agent, des, comme, developpe...            13   \n",
       "1  (anteflechi, guerlus, forum, affich, definitio...             9   \n",
       "2     (epaule, forum, affich, craquements, douleurs)             5   \n",
       "4  (tesla, embarrasse, ouragan, photo, ses, prono...            25   \n",
       "5  (journal, jean, kardashian, laura, enfants, le...           106   \n",
       "\n",
       "   Unique_from_the_Avg  Unique_volatility  Length_from_the_Avg  \\\n",
       "0            -5.258384           0.387096           -30.289219   \n",
       "1            -9.258384           0.267990           -33.289219   \n",
       "2           -13.258384           0.148883           -38.289219   \n",
       "4             6.741616           0.744416            53.710781   \n",
       "5            87.741616           3.156322           359.710781   \n",
       "\n",
       "   Length_volatility  \n",
       "0           0.108084  \n",
       "1           0.074827  \n",
       "2           0.041571  \n",
       "4           0.207853  \n",
       "5           0.881299  "
      ]
     },
     "execution_count": 23,
     "metadata": {},
     "output_type": "execute_result"
    }
   ],
   "source": [
    "df.head()"
   ]
  },
  {
   "cell_type": "markdown",
   "metadata": {},
   "source": [
    "### 5) Extracting the top frequencies"
   ]
  },
  {
   "cell_type": "code",
   "execution_count": 26,
   "metadata": {},
   "outputs": [],
   "source": [
    "#df[\"Occurence\"] = df[\"Occurence\"].astype(str)"
   ]
  },
  {
   "cell_type": "code",
   "execution_count": 27,
   "metadata": {},
   "outputs": [],
   "source": [
    "Max = []\n",
    "for i in df.Occurence:\n",
    "    i = max(i,default=0)\n",
    "    Max.append(i)"
   ]
  },
  {
   "cell_type": "code",
   "execution_count": 28,
   "metadata": {},
   "outputs": [],
   "source": [
    "df['Max_Frequence'] = Max"
   ]
  },
  {
   "cell_type": "code",
   "execution_count": 29,
   "metadata": {},
   "outputs": [],
   "source": [
    "df = df.query('Max_Frequence > 1')"
   ]
  },
  {
   "cell_type": "markdown",
   "metadata": {},
   "source": [
    "### 6) Extracting the top words"
   ]
  },
  {
   "cell_type": "code",
   "execution_count": 30,
   "metadata": {},
   "outputs": [],
   "source": [
    "#df['Full_Wording'] = df['Full_Wording'].astype(str)"
   ]
  },
  {
   "cell_type": "code",
   "execution_count": 31,
   "metadata": {},
   "outputs": [],
   "source": [
    "from collections import Counter\n",
    "\n",
    "def Most_Common(lst):\n",
    "    data = Counter(lst)\n",
    "    return data.most_common(1)[0][0]"
   ]
  },
  {
   "cell_type": "code",
   "execution_count": 32,
   "metadata": {},
   "outputs": [],
   "source": [
    "Top = []\n",
    "for i in df['Full_Wording']:\n",
    "    i = Most_Common(i)\n",
    "    Top.append(i)    "
   ]
  },
  {
   "cell_type": "code",
   "execution_count": 33,
   "metadata": {},
   "outputs": [],
   "source": [
    "df['Top_Word'] = Top"
   ]
  },
  {
   "cell_type": "markdown",
   "metadata": {},
   "source": [
    "### 7) Extracting the words' typology"
   ]
  },
  {
   "cell_type": "code",
   "execution_count": 34,
   "metadata": {},
   "outputs": [],
   "source": [
    "Typology = []\n",
    "for i in df['Top_Word']:\n",
    "    i = nltk.word_tokenize(i)\n",
    "    e = nltk.pos_tag(i)\n",
    "    Typology.append(e)"
   ]
  },
  {
   "cell_type": "code",
   "execution_count": 35,
   "metadata": {},
   "outputs": [],
   "source": [
    "df['Typology'] = Typology"
   ]
  },
  {
   "cell_type": "code",
   "execution_count": 36,
   "metadata": {},
   "outputs": [],
   "source": [
    "df['Typology'] = df['Typology'].astype(str)"
   ]
  },
  {
   "cell_type": "code",
   "execution_count": 37,
   "metadata": {},
   "outputs": [],
   "source": [
    "Typology_2 = []\n",
    "for i in df['Typology']:\n",
    "    i = i.split(',', 1)[1]\n",
    "    i = i[:-2]\n",
    "    Typology_2.append(i)\n",
    "df['Typology'] = Typology_2"
   ]
  },
  {
   "cell_type": "markdown",
   "metadata": {},
   "source": [
    "### 8) Simplifying the readability of the variable Age"
   ]
  },
  {
   "cell_type": "code",
   "execution_count": 38,
   "metadata": {},
   "outputs": [],
   "source": [
    "Age = []\n",
    "for i in df.age:\n",
    "    if i < 30:\n",
    "        Age.append(1)\n",
    "    elif i < 40:\n",
    "        Age.append(2)\n",
    "    elif i < 50:\n",
    "        Age.append(3)\n",
    "    elif i < 60:\n",
    "        Age.append(4)\n",
    "    else:\n",
    "        Age.append(5)"
   ]
  },
  {
   "cell_type": "code",
   "execution_count": 39,
   "metadata": {},
   "outputs": [],
   "source": [
    "df['age'] = Age"
   ]
  },
  {
   "cell_type": "markdown",
   "metadata": {},
   "source": [
    "# Creating the dataset for the modeling part"
   ]
  },
  {
   "cell_type": "code",
   "execution_count": 40,
   "metadata": {},
   "outputs": [],
   "source": [
    "data = df[['age', 'sex', 'Length',\n",
    "       'Unique_Value', 'Unique_from_the_Avg',\n",
    "       'Unique_volatility', 'Length_from_the_Avg', 'Length_volatility',\n",
    "       'Max_Frequence', 'Typology']].copy()"
   ]
  },
  {
   "cell_type": "markdown",
   "metadata": {},
   "source": [
    "### Removing outliers"
   ]
  },
  {
   "cell_type": "code",
   "execution_count": 41,
   "metadata": {},
   "outputs": [],
   "source": [
    "from scipy.stats import zscore\n",
    "from scipy import stats\n",
    "z_scores = stats.zscore(data.Length)"
   ]
  },
  {
   "cell_type": "code",
   "execution_count": 42,
   "metadata": {},
   "outputs": [],
   "source": [
    "abs_z_scores = np.abs(z_scores)\n",
    "filtered_entries = (abs_z_scores < 3)\n",
    "data = data[filtered_entries]"
   ]
  },
  {
   "cell_type": "markdown",
   "metadata": {},
   "source": [
    "### Deleting the high correlations "
   ]
  },
  {
   "cell_type": "code",
   "execution_count": 43,
   "metadata": {},
   "outputs": [
    {
     "data": {
      "text/html": [
       "<div>\n",
       "<style scoped>\n",
       "    .dataframe tbody tr th:only-of-type {\n",
       "        vertical-align: middle;\n",
       "    }\n",
       "\n",
       "    .dataframe tbody tr th {\n",
       "        vertical-align: top;\n",
       "    }\n",
       "\n",
       "    .dataframe thead th {\n",
       "        text-align: right;\n",
       "    }\n",
       "</style>\n",
       "<table border=\"1\" class=\"dataframe\">\n",
       "  <thead>\n",
       "    <tr style=\"text-align: right;\">\n",
       "      <th></th>\n",
       "      <th>age</th>\n",
       "      <th>Length</th>\n",
       "      <th>Unique_Value</th>\n",
       "      <th>Unique_from_the_Avg</th>\n",
       "      <th>Unique_volatility</th>\n",
       "      <th>Length_from_the_Avg</th>\n",
       "      <th>Length_volatility</th>\n",
       "      <th>Max_Frequence</th>\n",
       "    </tr>\n",
       "  </thead>\n",
       "  <tbody>\n",
       "    <tr>\n",
       "      <th>age</th>\n",
       "      <td>1.000000</td>\n",
       "      <td>0.081204</td>\n",
       "      <td>0.075604</td>\n",
       "      <td>0.075604</td>\n",
       "      <td>0.075604</td>\n",
       "      <td>0.081204</td>\n",
       "      <td>0.075604</td>\n",
       "      <td>0.055550</td>\n",
       "    </tr>\n",
       "    <tr>\n",
       "      <th>Length</th>\n",
       "      <td>0.081204</td>\n",
       "      <td>1.000000</td>\n",
       "      <td>0.775133</td>\n",
       "      <td>0.775133</td>\n",
       "      <td>0.775133</td>\n",
       "      <td>1.000000</td>\n",
       "      <td>0.775133</td>\n",
       "      <td>0.810986</td>\n",
       "    </tr>\n",
       "    <tr>\n",
       "      <th>Unique_Value</th>\n",
       "      <td>0.075604</td>\n",
       "      <td>0.775133</td>\n",
       "      <td>1.000000</td>\n",
       "      <td>1.000000</td>\n",
       "      <td>1.000000</td>\n",
       "      <td>0.775133</td>\n",
       "      <td>1.000000</td>\n",
       "      <td>0.406050</td>\n",
       "    </tr>\n",
       "    <tr>\n",
       "      <th>Unique_from_the_Avg</th>\n",
       "      <td>0.075604</td>\n",
       "      <td>0.775133</td>\n",
       "      <td>1.000000</td>\n",
       "      <td>1.000000</td>\n",
       "      <td>1.000000</td>\n",
       "      <td>0.775133</td>\n",
       "      <td>1.000000</td>\n",
       "      <td>0.406050</td>\n",
       "    </tr>\n",
       "    <tr>\n",
       "      <th>Unique_volatility</th>\n",
       "      <td>0.075604</td>\n",
       "      <td>0.775133</td>\n",
       "      <td>1.000000</td>\n",
       "      <td>1.000000</td>\n",
       "      <td>1.000000</td>\n",
       "      <td>0.775133</td>\n",
       "      <td>1.000000</td>\n",
       "      <td>0.406050</td>\n",
       "    </tr>\n",
       "    <tr>\n",
       "      <th>Length_from_the_Avg</th>\n",
       "      <td>0.081204</td>\n",
       "      <td>1.000000</td>\n",
       "      <td>0.775133</td>\n",
       "      <td>0.775133</td>\n",
       "      <td>0.775133</td>\n",
       "      <td>1.000000</td>\n",
       "      <td>0.775133</td>\n",
       "      <td>0.810986</td>\n",
       "    </tr>\n",
       "    <tr>\n",
       "      <th>Length_volatility</th>\n",
       "      <td>0.075604</td>\n",
       "      <td>0.775133</td>\n",
       "      <td>1.000000</td>\n",
       "      <td>1.000000</td>\n",
       "      <td>1.000000</td>\n",
       "      <td>0.775133</td>\n",
       "      <td>1.000000</td>\n",
       "      <td>0.406050</td>\n",
       "    </tr>\n",
       "    <tr>\n",
       "      <th>Max_Frequence</th>\n",
       "      <td>0.055550</td>\n",
       "      <td>0.810986</td>\n",
       "      <td>0.406050</td>\n",
       "      <td>0.406050</td>\n",
       "      <td>0.406050</td>\n",
       "      <td>0.810986</td>\n",
       "      <td>0.406050</td>\n",
       "      <td>1.000000</td>\n",
       "    </tr>\n",
       "  </tbody>\n",
       "</table>\n",
       "</div>"
      ],
      "text/plain": [
       "                          age    Length  Unique_Value  Unique_from_the_Avg  \\\n",
       "age                  1.000000  0.081204      0.075604             0.075604   \n",
       "Length               0.081204  1.000000      0.775133             0.775133   \n",
       "Unique_Value         0.075604  0.775133      1.000000             1.000000   \n",
       "Unique_from_the_Avg  0.075604  0.775133      1.000000             1.000000   \n",
       "Unique_volatility    0.075604  0.775133      1.000000             1.000000   \n",
       "Length_from_the_Avg  0.081204  1.000000      0.775133             0.775133   \n",
       "Length_volatility    0.075604  0.775133      1.000000             1.000000   \n",
       "Max_Frequence        0.055550  0.810986      0.406050             0.406050   \n",
       "\n",
       "                     Unique_volatility  Length_from_the_Avg  \\\n",
       "age                           0.075604             0.081204   \n",
       "Length                        0.775133             1.000000   \n",
       "Unique_Value                  1.000000             0.775133   \n",
       "Unique_from_the_Avg           1.000000             0.775133   \n",
       "Unique_volatility             1.000000             0.775133   \n",
       "Length_from_the_Avg           0.775133             1.000000   \n",
       "Length_volatility             1.000000             0.775133   \n",
       "Max_Frequence                 0.406050             0.810986   \n",
       "\n",
       "                     Length_volatility  Max_Frequence  \n",
       "age                           0.075604       0.055550  \n",
       "Length                        0.775133       0.810986  \n",
       "Unique_Value                  1.000000       0.406050  \n",
       "Unique_from_the_Avg           1.000000       0.406050  \n",
       "Unique_volatility             1.000000       0.406050  \n",
       "Length_from_the_Avg           0.775133       0.810986  \n",
       "Length_volatility             1.000000       0.406050  \n",
       "Max_Frequence                 0.406050       1.000000  "
      ]
     },
     "execution_count": 43,
     "metadata": {},
     "output_type": "execute_result"
    }
   ],
   "source": [
    "data.corr()"
   ]
  },
  {
   "cell_type": "code",
   "execution_count": 44,
   "metadata": {},
   "outputs": [],
   "source": [
    "del data['Length']"
   ]
  },
  {
   "cell_type": "markdown",
   "metadata": {},
   "source": [
    "# Modeling"
   ]
  },
  {
   "cell_type": "code",
   "execution_count": 45,
   "metadata": {},
   "outputs": [
    {
     "data": {
      "text/plain": [
       "Index(['age', 'sex', 'Unique_Value', 'Unique_from_the_Avg',\n",
       "       'Unique_volatility', 'Length_from_the_Avg', 'Length_volatility',\n",
       "       'Max_Frequence', 'Typology'],\n",
       "      dtype='object')"
      ]
     },
     "execution_count": 45,
     "metadata": {},
     "output_type": "execute_result"
    }
   ],
   "source": [
    "data.columns"
   ]
  },
  {
   "cell_type": "code",
   "execution_count": 46,
   "metadata": {},
   "outputs": [],
   "source": [
    "data = pd.get_dummies(data, columns=['age','Typology'])"
   ]
  },
  {
   "cell_type": "code",
   "execution_count": 47,
   "metadata": {},
   "outputs": [],
   "source": [
    "X = data.loc[:, data.columns !=\"sex\"]\n",
    "y = data.loc[:, data.columns ==\"sex\"]"
   ]
  },
  {
   "cell_type": "code",
   "execution_count": 48,
   "metadata": {},
   "outputs": [],
   "source": [
    "y = pd.get_dummies(y, drop_first=True)"
   ]
  },
  {
   "cell_type": "code",
   "execution_count": 49,
   "metadata": {},
   "outputs": [],
   "source": [
    "from sklearn.model_selection import train_test_split\n",
    "X_train, X_test, y_train, y_test = train_test_split(X,y,test_size = 0.25, random_state = 0, stratify = y)"
   ]
  },
  {
   "cell_type": "markdown",
   "metadata": {},
   "source": [
    "### Radom Forest "
   ]
  },
  {
   "cell_type": "code",
   "execution_count": 50,
   "metadata": {},
   "outputs": [
    {
     "name": "stderr",
     "output_type": "stream",
     "text": [
      "/anaconda3/lib/python3.7/site-packages/ipykernel_launcher.py:3: DataConversionWarning: A column-vector y was passed when a 1d array was expected. Please change the shape of y to (n_samples,), for example using ravel().\n",
      "  This is separate from the ipykernel package so we can avoid doing imports until\n"
     ]
    }
   ],
   "source": [
    "from sklearn.ensemble import RandomForestClassifier\n",
    "rfc = RandomForestClassifier(random_state=0, n_estimators=100)\n",
    "rfc.fit(X_train, y_train)\n",
    "pred_rfc = rfc.predict(X_test)"
   ]
  },
  {
   "cell_type": "code",
   "execution_count": 51,
   "metadata": {},
   "outputs": [
    {
     "name": "stdout",
     "output_type": "stream",
     "text": [
      "              precision    recall  f1-score   support\n",
      "\n",
      "           0       0.52      0.48      0.50       486\n",
      "           1       0.57      0.61      0.59       547\n",
      "\n",
      "    accuracy                           0.55      1033\n",
      "   macro avg       0.54      0.54      0.54      1033\n",
      "weighted avg       0.55      0.55      0.55      1033\n",
      "\n"
     ]
    }
   ],
   "source": [
    "from sklearn.metrics import classification_report\n",
    "print(classification_report(y_test, pred_rfc))"
   ]
  },
  {
   "cell_type": "code",
   "execution_count": 52,
   "metadata": {},
   "outputs": [
    {
     "name": "stdout",
     "output_type": "stream",
     "text": [
      "[[233 253]\n",
      " [214 333]]\n"
     ]
    }
   ],
   "source": [
    "from sklearn.metrics import confusion_matrix\n",
    "print(confusion_matrix(y_test, pred_rfc))"
   ]
  },
  {
   "cell_type": "code",
   "execution_count": 56,
   "metadata": {},
   "outputs": [
    {
     "data": {
      "image/png": "[encoded data removed]",
      "text/plain": [
       "<Figure size 432x288 with 1 Axes>"
      ]
     },
     "metadata": {
      "needs_background": "light"
     },
     "output_type": "display_data"
    }
   ],
   "source": [
    "from sklearn.metrics import roc_auc_score \n",
    "from sklearn.metrics import roc_curve \n",
    "import matplotlib.pyplot as plt\n",
    "\n",
    "logit_roc_auc = roc_auc_score(y, rfc.predict(X)) \n",
    "\n",
    "plt.figure() \n",
    "fpr, tpr, thresholds = roc_curve(y, rfc.predict_proba(X)[:,1]) \n",
    "plt.plot(fpr, tpr, label='Random Forest (area = %0.2f)' % logit_roc_auc) \n",
    "plt.plot([0, 1], [0, 1],'r--') \n",
    "plt.xlim([0.0, 1.0]) \n",
    "plt.ylim([0.0, 1.05]) \n",
    "plt.xlabel('False Positive Rate') \n",
    "plt.ylabel('True Positive Rate') \n",
    "plt.title('Receiver operating characteristic') \n",
    "plt.legend(loc=\"lower right\") \n",
    "plt.savefig('Log_ROC') \n",
    "plt.show()"
   ]
  },
  {
   "cell_type": "code",
   "execution_count": null,
   "metadata": {},
   "outputs": [],
   "source": []
  }
 ],
 "metadata": {
  "kernelspec": {
   "display_name": "Python 3",
   "language": "python",
   "name": "python3"
  },
  "language_info": {
   "codemirror_mode": {
    "name": "ipython",
    "version": 3
   },
   "file_extension": ".py",
   "mimetype": "text/x-python",
   "name": "python",
   "nbconvert_exporter": "python",
   "pygments_lexer": "ipython3",
   "version": "3.7.3"
  }
 },
 "nbformat": 4,
 "nbformat_minor": 4
}
