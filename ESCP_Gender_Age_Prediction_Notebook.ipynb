{
 "cells": [
  {
   "cell_type": "code",
   "execution_count": 56,
   "metadata": {},
   "outputs": [
    {
     "name": "stderr",
     "output_type": "stream",
     "text": [
      "[nltk_data] Downloading package punkt to\n",
      "[nltk_data]     /Users/antoineguerrini/nltk_data...\n",
      "[nltk_data]   Package punkt is already up-to-date!\n",
      "[nltk_data] Downloading package averaged_perceptron_tagger to\n",
      "[nltk_data]     /Users/antoineguerrini/nltk_data...\n",
      "[nltk_data]   Package averaged_perceptron_tagger is already up-to-\n",
      "[nltk_data]       date!\n"
     ]
    },
    {
     "data": {
      "text/plain": [
       "True"
      ]
     },
     "execution_count": 56,
     "metadata": {},
     "output_type": "execute_result"
    }
   ],
   "source": [
    "import pandas as pd\n",
    "import numpy as np\n",
    "import nltk\n",
    "from nltk.tokenize import word_tokenize\n",
    "nltk.download('punkt')\n",
    "nltk.download('averaged_perceptron_tagger')"
   ]
  },
  {
   "cell_type": "code",
   "execution_count": 57,
   "metadata": {},
   "outputs": [],
   "source": [
    "#d = pd.read_csv('/Users/antoineguerrini/Desktop/Train_ML.csv', error_bad_lines=False)"
   ]
  },
  {
   "cell_type": "code",
   "execution_count": 58,
   "metadata": {},
   "outputs": [],
   "source": [
    "#snipet = d.sample(frac=0.045, replace=True, random_state=42)"
   ]
  },
  {
   "cell_type": "code",
   "execution_count": 59,
   "metadata": {},
   "outputs": [],
   "source": [
    "#snipet.to_excel('Snipet_ML.xlsx')"
   ]
  },
  {
   "cell_type": "code",
   "execution_count": 639,
   "metadata": {},
   "outputs": [],
   "source": [
    "df = pd.read_excel('/Users/antoineguerrini/SnipetML.xlsx', error_bad_lines=False)"
   ]
  },
  {
   "cell_type": "code",
   "execution_count": 640,
   "metadata": {},
   "outputs": [
    {
     "data": {
      "text/html": [
       "<div>\n",
       "<style scoped>\n",
       "    .dataframe tbody tr th:only-of-type {\n",
       "        vertical-align: middle;\n",
       "    }\n",
       "\n",
       "    .dataframe tbody tr th {\n",
       "        vertical-align: top;\n",
       "    }\n",
       "\n",
       "    .dataframe thead th {\n",
       "        text-align: right;\n",
       "    }\n",
       "</style>\n",
       "<table border=\"1\" class=\"dataframe\">\n",
       "  <thead>\n",
       "    <tr style=\"text-align: right;\">\n",
       "      <th></th>\n",
       "      <th>Unnamed: 0</th>\n",
       "      <th>ID</th>\n",
       "      <th>keywords</th>\n",
       "      <th>age</th>\n",
       "      <th>sex</th>\n",
       "    </tr>\n",
       "  </thead>\n",
       "  <tbody>\n",
       "    <tr>\n",
       "      <th>0</th>\n",
       "      <td>5571877</td>\n",
       "      <td>4814904</td>\n",
       "      <td>les:1;high:1;leur:1;agent:1;des:1;comme:1;deve...</td>\n",
       "      <td>42</td>\n",
       "      <td>M</td>\n",
       "    </tr>\n",
       "    <tr>\n",
       "      <th>1</th>\n",
       "      <td>2029092</td>\n",
       "      <td>232820</td>\n",
       "      <td>anteflechi:1;guerlus:1;forum:1;affich:1;defini...</td>\n",
       "      <td>48</td>\n",
       "      <td>F</td>\n",
       "    </tr>\n",
       "    <tr>\n",
       "      <th>2</th>\n",
       "      <td>2718399</td>\n",
       "      <td>78339</td>\n",
       "      <td>epaule:1;forum:1;affich:1;craquements:1;douleu...</td>\n",
       "      <td>47</td>\n",
       "      <td>F</td>\n",
       "    </tr>\n",
       "    <tr>\n",
       "      <th>3</th>\n",
       "      <td>1978474</td>\n",
       "      <td>2322420</td>\n",
       "      <td>NaN</td>\n",
       "      <td>74</td>\n",
       "      <td>M</td>\n",
       "    </tr>\n",
       "    <tr>\n",
       "      <th>4</th>\n",
       "      <td>1209891</td>\n",
       "      <td>183059</td>\n",
       "      <td>tesla:1;embarrasse:1;ouragan:1;photo:10;ses:1;...</td>\n",
       "      <td>47</td>\n",
       "      <td>F</td>\n",
       "    </tr>\n",
       "  </tbody>\n",
       "</table>\n",
       "</div>"
      ],
      "text/plain": [
       "   Unnamed: 0       ID                                           keywords  \\\n",
       "0     5571877  4814904  les:1;high:1;leur:1;agent:1;des:1;comme:1;deve...   \n",
       "1     2029092   232820  anteflechi:1;guerlus:1;forum:1;affich:1;defini...   \n",
       "2     2718399    78339  epaule:1;forum:1;affich:1;craquements:1;douleu...   \n",
       "3     1978474  2322420                                                NaN   \n",
       "4     1209891   183059  tesla:1;embarrasse:1;ouragan:1;photo:10;ses:1;...   \n",
       "\n",
       "   age sex  \n",
       "0   42   M  \n",
       "1   48   F  \n",
       "2   47   F  \n",
       "3   74   M  \n",
       "4   47   F  "
      ]
     },
     "execution_count": 640,
     "metadata": {},
     "output_type": "execute_result"
    }
   ],
   "source": [
    "df.head()"
   ]
  },
  {
   "cell_type": "code",
   "execution_count": 641,
   "metadata": {},
   "outputs": [],
   "source": [
    "#del df['Unnamed: 0']"
   ]
  },
  {
   "cell_type": "code",
   "execution_count": 642,
   "metadata": {},
   "outputs": [
    {
     "data": {
      "text/plain": [
       "Unnamed: 0       0\n",
       "ID               0\n",
       "keywords      1114\n",
       "age              0\n",
       "sex              0\n",
       "dtype: int64"
      ]
     },
     "execution_count": 642,
     "metadata": {},
     "output_type": "execute_result"
    }
   ],
   "source": [
    "df.isnull().sum()"
   ]
  },
  {
   "cell_type": "code",
   "execution_count": 643,
   "metadata": {},
   "outputs": [],
   "source": [
    "df.dropna(subset=['keywords'], inplace=True)"
   ]
  },
  {
   "cell_type": "code",
   "execution_count": 644,
   "metadata": {},
   "outputs": [
    {
     "data": {
      "text/plain": [
       "dtype('O')"
      ]
     },
     "execution_count": 644,
     "metadata": {},
     "output_type": "execute_result"
    }
   ],
   "source": [
    "df[\"keywords\"].dtypes"
   ]
  },
  {
   "cell_type": "markdown",
   "metadata": {},
   "source": [
    "### Data processing"
   ]
  },
  {
   "cell_type": "markdown",
   "metadata": {},
   "source": [
    "In this section we aim to transform the variable \"keywords\" in order to make it processable for further feature engineerings."
   ]
  },
  {
   "cell_type": "code",
   "execution_count": 645,
   "metadata": {},
   "outputs": [],
   "source": [
    "from nltk.corpus import stopwords\n",
    "c = stopwords.words('french')"
   ]
  },
  {
   "cell_type": "code",
   "execution_count": 646,
   "metadata": {},
   "outputs": [],
   "source": [
    "import string\n",
    "nopunc = [char for char in df if char not in string.punctuation]"
   ]
  },
  {
   "cell_type": "markdown",
   "metadata": {},
   "source": [
    "We create a function which will \n",
    "    \n",
    "    1) Split the words and the occurences \n",
    "    \n",
    "    2) Assign them to two lists \n",
    "    \n",
    "    3) Create a sentence based on words * occurences \n",
    "    \n",
    "    4) Discard the \"stopword\""
   ]
  },
  {
   "cell_type": "code",
   "execution_count": 647,
   "metadata": {},
   "outputs": [],
   "source": [
    "def processing(x):\n",
    "    list_subset =[]\n",
    "    for item in x:\n",
    "        item = x.split(';') \n",
    "\n",
    "    for i in range (0,len(item)):\n",
    "        list_subset = list_subset + item[i].split(':')\n",
    "        \n",
    "    for i in range (1,len(list_subset)):\n",
    "        if i%2 !=0:\n",
    "            list_subset[i] = int(list_subset[i])\n",
    "            \n",
    "    integer = [x for x in list_subset if isinstance(x, int)]\n",
    "    string = [x for x in list_subset if isinstance(x, str)]\n",
    "    \n",
    "    word_list = sum([[s] * n for s, n in zip(string, integer)], [])\n",
    "    word_filtered = [x for x in word_list if not any(c.isdigit() for c in x)]\n",
    "    \n",
    "    Output = [y for y in word_filtered if word_list not in c]\n",
    "\n",
    "    return Output"
   ]
  },
  {
   "cell_type": "code",
   "execution_count": 648,
   "metadata": {},
   "outputs": [],
   "source": [
    "df['Full_Wording'] = df[\"keywords\"].apply(processing)"
   ]
  },
  {
   "cell_type": "markdown",
   "metadata": {},
   "source": [
    "# Feature engineering"
   ]
  },
  {
   "cell_type": "markdown",
   "metadata": {},
   "source": [
    "In this section we want to create relevant features in order to support our modeling. In order to achieve that objective, we used Counter and Nltk libraries. We parallelly observed the data with visualisations to assess the impact of our findings. (Please refer to the pdf attached to this document).\n",
    "\n",
    "..\n",
    "\n"
   ]
  },
  {
   "cell_type": "markdown",
   "metadata": {},
   "source": [
    "### 0)Summary"
   ]
  },
  {
   "cell_type": "markdown",
   "metadata": {},
   "source": [
    "We created 2 functions preparation / wording_preparation in order to process feature \n",
    "\n",
    "engineering. For readability matters, we will in first present step by step the process. \n",
    "\n",
    "Nontheless, please find attached belows the 2 functions that wrap up all our engineering part.\n"
   ]
  },
  {
   "cell_type": "code",
   "execution_count": 946,
   "metadata": {},
   "outputs": [],
   "source": [
    "def preparation(x):\n",
    "        \n",
    "    from collections import Counter\n",
    "    length = []\n",
    "    for i in x['Full_Wording']:\n",
    "        a = len(i)+1\n",
    "        length.append(a)\n",
    "    x['Length'] = length\n",
    "    \n",
    "    Occurence = []\n",
    "    Word = []\n",
    "    for i in x['Full_Wording']:\n",
    "        b = Counter(i).values()\n",
    "        c = Counter(i).keys()\n",
    "        Occurence.append(b)\n",
    "        Word.append(c)\n",
    "    x[\"Occurence\"] = Occurence\n",
    "    x[\"Word\"] = Word\n",
    "    \n",
    "    Number_Unique = []\n",
    "    for i in x.Word:\n",
    "        e = len(Counter(i).keys())\n",
    "        Number_Unique.append(e)\n",
    "    x[\"Unique_Value\"] = Number_Unique   \n",
    "    \n",
    "    mean_unique = x['Unique_Value'].mean()\n",
    "    std_unique = x['Unique_Value'].std()\n",
    "\n",
    "    mean_length = x['Length'].mean()\n",
    "    std_length = x['Length'].std()\n",
    "\n",
    "    x['Unique_from_the_Avg'] = x['Unique_Value'] - mean_unique\n",
    "    x['Unique_volatility'] = x['Unique_Value'] / std_unique\n",
    "\n",
    "    x['Length_from_the_Avg'] = x['Length'] - mean_length\n",
    "    x['Length_volatility'] = x['Unique_Value'] / std_length\n",
    "    \n",
    "    Max = []\n",
    "    for i in x.Occurence:\n",
    "        i = max(i,default=0)\n",
    "        Max.append(i)\n",
    "    x['Max_Frequence'] = Max  "
   ]
  },
  {
   "cell_type": "code",
   "execution_count": 945,
   "metadata": {},
   "outputs": [],
   "source": [
    "def wording_preparation(x):    \n",
    "    \n",
    "    from collections import Counter\n",
    "\n",
    "    Top = []\n",
    "    for i in x['Full_Wording']:\n",
    "        i = Most_Common(i)\n",
    "        Top.append(i)   \n",
    "    \n",
    "    x['Top_Word'] = Top\n",
    "    \n",
    "    Typology = []\n",
    "    for i in x['Top_Word']:\n",
    "        i = nltk.word_tokenize(i)\n",
    "        e = nltk.pos_tag(i)\n",
    "        Typology.append(e)\n",
    "\n",
    "    x['Typology'] = Typology\n",
    "\n",
    "    x['Typology'] = x['Typology'].astype(str)\n",
    "\n",
    "    Typology_2 = []\n",
    "    for i in x['Typology']:\n",
    "        i = i.split(',', 1)[1]\n",
    "        i = i[:-2]\n",
    "        Typology_2.append(i)\n",
    "        \n",
    "    x['Typology'] = Typology_2"
   ]
  },
  {
   "cell_type": "markdown",
   "metadata": {},
   "source": [
    "### 1) Extraction of the wording's length"
   ]
  },
  {
   "cell_type": "code",
   "execution_count": 649,
   "metadata": {},
   "outputs": [],
   "source": [
    "from collections import Counter\n",
    "length = []\n",
    "for i in df['Full_Wording']:\n",
    "    a = len(i)+1\n",
    "    length.append(a)"
   ]
  },
  {
   "cell_type": "code",
   "execution_count": 650,
   "metadata": {},
   "outputs": [],
   "source": [
    "df['Length'] = length"
   ]
  },
  {
   "cell_type": "code",
   "execution_count": 651,
   "metadata": {},
   "outputs": [
    {
     "data": {
      "image/png": "[encoded data removed]",
      "text/plain": [
       "<IPython.core.display.Image object>"
      ]
     },
     "execution_count": 651,
     "metadata": {},
     "output_type": "execute_result"
    }
   ],
   "source": [
    "from IPython.display import Image\n",
    "Image(filename=\"img/length_gender.png\")"
   ]
  },
  {
   "cell_type": "markdown",
   "metadata": {},
   "source": [
    "   "
   ]
  },
  {
   "cell_type": "code",
   "execution_count": 652,
   "metadata": {},
   "outputs": [
    {
     "data": {
      "image/png": "[encoded data removed]",
      "text/plain": [
       "<IPython.core.display.Image object>"
      ]
     },
     "execution_count": 652,
     "metadata": {},
     "output_type": "execute_result"
    }
   ],
   "source": [
    "from IPython.display import Image\n",
    "Image(filename=\"img/distance.png\")"
   ]
  },
  {
   "cell_type": "markdown",
   "metadata": {},
   "source": [
    "  "
   ]
  },
  {
   "cell_type": "markdown",
   "metadata": {},
   "source": [
    "## 2) Extraction of the words and occurences"
   ]
  },
  {
   "cell_type": "code",
   "execution_count": 653,
   "metadata": {},
   "outputs": [],
   "source": [
    "Occurence = []\n",
    "Word = []\n",
    "for i in df['Full_Wording']:\n",
    "    b = Counter(i).values()\n",
    "    c = Counter(i).keys()\n",
    "    Occurence.append(b)\n",
    "    Word.append(c)"
   ]
  },
  {
   "cell_type": "code",
   "execution_count": 654,
   "metadata": {},
   "outputs": [],
   "source": [
    "df[\"Occurence\"] = Occurence\n",
    "df[\"Word\"] = Word"
   ]
  },
  {
   "cell_type": "markdown",
   "metadata": {},
   "source": [
    "### 3) Extraction of the unique value"
   ]
  },
  {
   "cell_type": "code",
   "execution_count": 655,
   "metadata": {},
   "outputs": [],
   "source": [
    "Number_Unique = []\n",
    "for i in df.Word:\n",
    "    e = len(Counter(i).keys())\n",
    "    Number_Unique.append(e) "
   ]
  },
  {
   "cell_type": "code",
   "execution_count": 656,
   "metadata": {},
   "outputs": [],
   "source": [
    "df[\"Unique_Value\"] = Number_Unique"
   ]
  },
  {
   "cell_type": "code",
   "execution_count": 657,
   "metadata": {},
   "outputs": [
    {
     "data": {
      "image/png": "[encoded data removed]",
      "text/plain": [
       "<IPython.core.display.Image object>"
      ]
     },
     "execution_count": 657,
     "metadata": {},
     "output_type": "execute_result"
    }
   ],
   "source": [
    "from IPython.display import Image\n",
    "Image(filename=\"img/Unique.png\")"
   ]
  },
  {
   "cell_type": "markdown",
   "metadata": {},
   "source": [
    "### 4) Calculation to compare from the benchmark"
   ]
  },
  {
   "cell_type": "code",
   "execution_count": 658,
   "metadata": {},
   "outputs": [],
   "source": [
    "mean_unique = df['Unique_Value'].mean()\n",
    "std_unique = df['Unique_Value'].std()\n",
    "\n",
    "mean_length = df['Length'].mean()\n",
    "std_length = df['Length'].std()"
   ]
  },
  {
   "cell_type": "code",
   "execution_count": 659,
   "metadata": {},
   "outputs": [],
   "source": [
    "df['Unique_from_the_Avg'] = df['Unique_Value'] - mean_unique\n",
    "df['Unique_volatility'] = df['Unique_Value'] / std_unique\n",
    "\n",
    "df['Length_from_the_Avg'] = df['Length'] - mean_length\n",
    "df['Length_volatility'] = df['Unique_Value'] / std_length"
   ]
  },
  {
   "cell_type": "code",
   "execution_count": 660,
   "metadata": {},
   "outputs": [
    {
     "data": {
      "text/html": [
       "<div>\n",
       "<style scoped>\n",
       "    .dataframe tbody tr th:only-of-type {\n",
       "        vertical-align: middle;\n",
       "    }\n",
       "\n",
       "    .dataframe tbody tr th {\n",
       "        vertical-align: top;\n",
       "    }\n",
       "\n",
       "    .dataframe thead th {\n",
       "        text-align: right;\n",
       "    }\n",
       "</style>\n",
       "<table border=\"1\" class=\"dataframe\">\n",
       "  <thead>\n",
       "    <tr style=\"text-align: right;\">\n",
       "      <th></th>\n",
       "      <th>Unnamed: 0</th>\n",
       "      <th>ID</th>\n",
       "      <th>keywords</th>\n",
       "      <th>age</th>\n",
       "      <th>sex</th>\n",
       "      <th>Full_Wording</th>\n",
       "      <th>Length</th>\n",
       "      <th>Occurence</th>\n",
       "      <th>Word</th>\n",
       "      <th>Unique_Value</th>\n",
       "      <th>Unique_from_the_Avg</th>\n",
       "      <th>Unique_volatility</th>\n",
       "      <th>Length_from_the_Avg</th>\n",
       "      <th>Length_volatility</th>\n",
       "    </tr>\n",
       "  </thead>\n",
       "  <tbody>\n",
       "    <tr>\n",
       "      <th>0</th>\n",
       "      <td>5571877</td>\n",
       "      <td>4814904</td>\n",
       "      <td>les:1;high:1;leur:1;agent:1;des:1;comme:1;deve...</td>\n",
       "      <td>42</td>\n",
       "      <td>M</td>\n",
       "      <td>[les, high, leur, agent, des, comme, developpe...</td>\n",
       "      <td>14</td>\n",
       "      <td>(1, 1, 1, 1, 1, 1, 1, 1, 1, 1, 1, 1, 1)</td>\n",
       "      <td>(les, high, leur, agent, des, comme, developpe...</td>\n",
       "      <td>13</td>\n",
       "      <td>-5.258384</td>\n",
       "      <td>0.387096</td>\n",
       "      <td>-30.289219</td>\n",
       "      <td>0.108084</td>\n",
       "    </tr>\n",
       "    <tr>\n",
       "      <th>1</th>\n",
       "      <td>2029092</td>\n",
       "      <td>232820</td>\n",
       "      <td>anteflechi:1;guerlus:1;forum:1;affich:1;defini...</td>\n",
       "      <td>48</td>\n",
       "      <td>F</td>\n",
       "      <td>[anteflechi, guerlus, forum, affich, definitio...</td>\n",
       "      <td>11</td>\n",
       "      <td>(1, 1, 1, 1, 1, 1, 2, 1, 1)</td>\n",
       "      <td>(anteflechi, guerlus, forum, affich, definitio...</td>\n",
       "      <td>9</td>\n",
       "      <td>-9.258384</td>\n",
       "      <td>0.267990</td>\n",
       "      <td>-33.289219</td>\n",
       "      <td>0.074827</td>\n",
       "    </tr>\n",
       "    <tr>\n",
       "      <th>2</th>\n",
       "      <td>2718399</td>\n",
       "      <td>78339</td>\n",
       "      <td>epaule:1;forum:1;affich:1;craquements:1;douleu...</td>\n",
       "      <td>47</td>\n",
       "      <td>F</td>\n",
       "      <td>[epaule, forum, affich, craquements, douleurs]</td>\n",
       "      <td>6</td>\n",
       "      <td>(1, 1, 1, 1, 1)</td>\n",
       "      <td>(epaule, forum, affich, craquements, douleurs)</td>\n",
       "      <td>5</td>\n",
       "      <td>-13.258384</td>\n",
       "      <td>0.148883</td>\n",
       "      <td>-38.289219</td>\n",
       "      <td>0.041571</td>\n",
       "    </tr>\n",
       "    <tr>\n",
       "      <th>4</th>\n",
       "      <td>1209891</td>\n",
       "      <td>183059</td>\n",
       "      <td>tesla:1;embarrasse:1;ouragan:1;photo:10;ses:1;...</td>\n",
       "      <td>47</td>\n",
       "      <td>F</td>\n",
       "      <td>[tesla, embarrasse, ouragan, photo, photo, pho...</td>\n",
       "      <td>98</td>\n",
       "      <td>(1, 1, 1, 10, 1, 10, 1, 1, 10, 10, 1, 1, 1, 10...</td>\n",
       "      <td>(tesla, embarrasse, ouragan, photo, ses, prono...</td>\n",
       "      <td>25</td>\n",
       "      <td>6.741616</td>\n",
       "      <td>0.744416</td>\n",
       "      <td>53.710781</td>\n",
       "      <td>0.207853</td>\n",
       "    </tr>\n",
       "    <tr>\n",
       "      <th>5</th>\n",
       "      <td>763427</td>\n",
       "      <td>641104</td>\n",
       "      <td>journal:1;jean:1;kardashian:1;laura:1;enfants:...</td>\n",
       "      <td>54</td>\n",
       "      <td>F</td>\n",
       "      <td>[journal, jean, kardashian, laura, enfants, le...</td>\n",
       "      <td>404</td>\n",
       "      <td>(1, 1, 1, 1, 1, 43, 1, 1, 1, 1, 1, 1, 1, 43, 1...</td>\n",
       "      <td>(journal, jean, kardashian, laura, enfants, le...</td>\n",
       "      <td>106</td>\n",
       "      <td>87.741616</td>\n",
       "      <td>3.156322</td>\n",
       "      <td>359.710781</td>\n",
       "      <td>0.881299</td>\n",
       "    </tr>\n",
       "  </tbody>\n",
       "</table>\n",
       "</div>"
      ],
      "text/plain": [
       "   Unnamed: 0       ID                                           keywords  \\\n",
       "0     5571877  4814904  les:1;high:1;leur:1;agent:1;des:1;comme:1;deve...   \n",
       "1     2029092   232820  anteflechi:1;guerlus:1;forum:1;affich:1;defini...   \n",
       "2     2718399    78339  epaule:1;forum:1;affich:1;craquements:1;douleu...   \n",
       "4     1209891   183059  tesla:1;embarrasse:1;ouragan:1;photo:10;ses:1;...   \n",
       "5      763427   641104  journal:1;jean:1;kardashian:1;laura:1;enfants:...   \n",
       "\n",
       "   age sex                                       Full_Wording  Length  \\\n",
       "0   42   M  [les, high, leur, agent, des, comme, developpe...      14   \n",
       "1   48   F  [anteflechi, guerlus, forum, affich, definitio...      11   \n",
       "2   47   F     [epaule, forum, affich, craquements, douleurs]       6   \n",
       "4   47   F  [tesla, embarrasse, ouragan, photo, photo, pho...      98   \n",
       "5   54   F  [journal, jean, kardashian, laura, enfants, le...     404   \n",
       "\n",
       "                                           Occurence  \\\n",
       "0            (1, 1, 1, 1, 1, 1, 1, 1, 1, 1, 1, 1, 1)   \n",
       "1                        (1, 1, 1, 1, 1, 1, 2, 1, 1)   \n",
       "2                                    (1, 1, 1, 1, 1)   \n",
       "4  (1, 1, 1, 10, 1, 10, 1, 1, 10, 10, 1, 1, 1, 10...   \n",
       "5  (1, 1, 1, 1, 1, 43, 1, 1, 1, 1, 1, 1, 1, 43, 1...   \n",
       "\n",
       "                                                Word  Unique_Value  \\\n",
       "0  (les, high, leur, agent, des, comme, developpe...            13   \n",
       "1  (anteflechi, guerlus, forum, affich, definitio...             9   \n",
       "2     (epaule, forum, affich, craquements, douleurs)             5   \n",
       "4  (tesla, embarrasse, ouragan, photo, ses, prono...            25   \n",
       "5  (journal, jean, kardashian, laura, enfants, le...           106   \n",
       "\n",
       "   Unique_from_the_Avg  Unique_volatility  Length_from_the_Avg  \\\n",
       "0            -5.258384           0.387096           -30.289219   \n",
       "1            -9.258384           0.267990           -33.289219   \n",
       "2           -13.258384           0.148883           -38.289219   \n",
       "4             6.741616           0.744416            53.710781   \n",
       "5            87.741616           3.156322           359.710781   \n",
       "\n",
       "   Length_volatility  \n",
       "0           0.108084  \n",
       "1           0.074827  \n",
       "2           0.041571  \n",
       "4           0.207853  \n",
       "5           0.881299  "
      ]
     },
     "execution_count": 660,
     "metadata": {},
     "output_type": "execute_result"
    }
   ],
   "source": [
    "df.head()"
   ]
  },
  {
   "cell_type": "markdown",
   "metadata": {},
   "source": [
    "### 5) Extracting the top frequencies"
   ]
  },
  {
   "cell_type": "code",
   "execution_count": 661,
   "metadata": {},
   "outputs": [],
   "source": [
    "#df[\"Occurence\"] = df[\"Occurence\"].astype(str)"
   ]
  },
  {
   "cell_type": "code",
   "execution_count": 662,
   "metadata": {},
   "outputs": [],
   "source": [
    "Max = []\n",
    "for i in df.Occurence:\n",
    "    i = max(i,default=0)\n",
    "    Max.append(i)"
   ]
  },
  {
   "cell_type": "code",
   "execution_count": 663,
   "metadata": {},
   "outputs": [],
   "source": [
    "df['Max_Frequence'] = Max"
   ]
  },
  {
   "cell_type": "code",
   "execution_count": 664,
   "metadata": {},
   "outputs": [],
   "source": [
    "df = df.query('Max_Frequence > 1')"
   ]
  },
  {
   "cell_type": "markdown",
   "metadata": {},
   "source": [
    "### 6) Extracting the top words"
   ]
  },
  {
   "cell_type": "code",
   "execution_count": 665,
   "metadata": {},
   "outputs": [],
   "source": [
    "#df['Full_Wording'] = df['Full_Wording'].astype(str)"
   ]
  },
  {
   "cell_type": "code",
   "execution_count": 666,
   "metadata": {},
   "outputs": [],
   "source": [
    "from collections import Counter\n",
    "\n",
    "def Most_Common(lst):\n",
    "    data = Counter(lst)\n",
    "    return data.most_common(1)[0][0]"
   ]
  },
  {
   "cell_type": "code",
   "execution_count": 667,
   "metadata": {},
   "outputs": [],
   "source": [
    "Top = []\n",
    "for i in df['Full_Wording']:\n",
    "    i = Most_Common(i)\n",
    "    Top.append(i)    "
   ]
  },
  {
   "cell_type": "code",
   "execution_count": 668,
   "metadata": {},
   "outputs": [],
   "source": [
    "df['Top_Word'] = Top"
   ]
  },
  {
   "cell_type": "markdown",
   "metadata": {},
   "source": [
    "### 7) Extracting the words' typology"
   ]
  },
  {
   "cell_type": "code",
   "execution_count": 669,
   "metadata": {},
   "outputs": [],
   "source": [
    "Typology = []\n",
    "for i in df['Top_Word']:\n",
    "    i = nltk.word_tokenize(i)\n",
    "    e = nltk.pos_tag(i)\n",
    "    Typology.append(e)"
   ]
  },
  {
   "cell_type": "code",
   "execution_count": 670,
   "metadata": {},
   "outputs": [],
   "source": [
    "df['Typology'] = Typology"
   ]
  },
  {
   "cell_type": "code",
   "execution_count": 671,
   "metadata": {},
   "outputs": [],
   "source": [
    "df['Typology'] = df['Typology'].astype(str)"
   ]
  },
  {
   "cell_type": "code",
   "execution_count": 672,
   "metadata": {},
   "outputs": [],
   "source": [
    "Typology_2 = []\n",
    "for i in df['Typology']:\n",
    "    i = i.split(',', 1)[1]\n",
    "    i = i[:-2]\n",
    "    Typology_2.append(i)\n",
    "df['Typology'] = Typology_2"
   ]
  },
  {
   "cell_type": "markdown",
   "metadata": {},
   "source": [
    "# Creating the dataset for the modeling part"
   ]
  },
  {
   "cell_type": "code",
   "execution_count": 903,
   "metadata": {},
   "outputs": [],
   "source": [
    "data = df[['age','sex', 'Length',\n",
    "       'Unique_Value', 'Unique_from_the_Avg',\n",
    "       'Unique_volatility', 'Length_from_the_Avg', 'Length_volatility',\n",
    "       'Max_Frequence']].copy()"
   ]
  },
  {
   "cell_type": "markdown",
   "metadata": {},
   "source": [
    "### Removing outliers"
   ]
  },
  {
   "cell_type": "code",
   "execution_count": 904,
   "metadata": {},
   "outputs": [],
   "source": [
    "from scipy.stats import zscore\n",
    "from scipy import stats\n",
    "z_scores = stats.zscore(data.Length)"
   ]
  },
  {
   "cell_type": "code",
   "execution_count": 905,
   "metadata": {},
   "outputs": [],
   "source": [
    "abs_z_scores = np.abs(z_scores)\n",
    "filtered_entries = (abs_z_scores < 3)\n",
    "data = data[filtered_entries]"
   ]
  },
  {
   "cell_type": "markdown",
   "metadata": {},
   "source": [
    "### Deleting the high correlations "
   ]
  },
  {
   "cell_type": "code",
   "execution_count": 906,
   "metadata": {},
   "outputs": [
    {
     "data": {
      "text/html": [
       "<div>\n",
       "<style scoped>\n",
       "    .dataframe tbody tr th:only-of-type {\n",
       "        vertical-align: middle;\n",
       "    }\n",
       "\n",
       "    .dataframe tbody tr th {\n",
       "        vertical-align: top;\n",
       "    }\n",
       "\n",
       "    .dataframe thead th {\n",
       "        text-align: right;\n",
       "    }\n",
       "</style>\n",
       "<table border=\"1\" class=\"dataframe\">\n",
       "  <thead>\n",
       "    <tr style=\"text-align: right;\">\n",
       "      <th></th>\n",
       "      <th>age</th>\n",
       "      <th>Length</th>\n",
       "      <th>Unique_Value</th>\n",
       "      <th>Unique_from_the_Avg</th>\n",
       "      <th>Unique_volatility</th>\n",
       "      <th>Length_from_the_Avg</th>\n",
       "      <th>Length_volatility</th>\n",
       "      <th>Max_Frequence</th>\n",
       "    </tr>\n",
       "  </thead>\n",
       "  <tbody>\n",
       "    <tr>\n",
       "      <th>age</th>\n",
       "      <td>1.000000</td>\n",
       "      <td>0.081781</td>\n",
       "      <td>0.078462</td>\n",
       "      <td>0.078462</td>\n",
       "      <td>0.078462</td>\n",
       "      <td>0.081781</td>\n",
       "      <td>0.078462</td>\n",
       "      <td>0.056322</td>\n",
       "    </tr>\n",
       "    <tr>\n",
       "      <th>Length</th>\n",
       "      <td>0.081781</td>\n",
       "      <td>1.000000</td>\n",
       "      <td>0.775133</td>\n",
       "      <td>0.775133</td>\n",
       "      <td>0.775133</td>\n",
       "      <td>1.000000</td>\n",
       "      <td>0.775133</td>\n",
       "      <td>0.810986</td>\n",
       "    </tr>\n",
       "    <tr>\n",
       "      <th>Unique_Value</th>\n",
       "      <td>0.078462</td>\n",
       "      <td>0.775133</td>\n",
       "      <td>1.000000</td>\n",
       "      <td>1.000000</td>\n",
       "      <td>1.000000</td>\n",
       "      <td>0.775133</td>\n",
       "      <td>1.000000</td>\n",
       "      <td>0.406050</td>\n",
       "    </tr>\n",
       "    <tr>\n",
       "      <th>Unique_from_the_Avg</th>\n",
       "      <td>0.078462</td>\n",
       "      <td>0.775133</td>\n",
       "      <td>1.000000</td>\n",
       "      <td>1.000000</td>\n",
       "      <td>1.000000</td>\n",
       "      <td>0.775133</td>\n",
       "      <td>1.000000</td>\n",
       "      <td>0.406050</td>\n",
       "    </tr>\n",
       "    <tr>\n",
       "      <th>Unique_volatility</th>\n",
       "      <td>0.078462</td>\n",
       "      <td>0.775133</td>\n",
       "      <td>1.000000</td>\n",
       "      <td>1.000000</td>\n",
       "      <td>1.000000</td>\n",
       "      <td>0.775133</td>\n",
       "      <td>1.000000</td>\n",
       "      <td>0.406050</td>\n",
       "    </tr>\n",
       "    <tr>\n",
       "      <th>Length_from_the_Avg</th>\n",
       "      <td>0.081781</td>\n",
       "      <td>1.000000</td>\n",
       "      <td>0.775133</td>\n",
       "      <td>0.775133</td>\n",
       "      <td>0.775133</td>\n",
       "      <td>1.000000</td>\n",
       "      <td>0.775133</td>\n",
       "      <td>0.810986</td>\n",
       "    </tr>\n",
       "    <tr>\n",
       "      <th>Length_volatility</th>\n",
       "      <td>0.078462</td>\n",
       "      <td>0.775133</td>\n",
       "      <td>1.000000</td>\n",
       "      <td>1.000000</td>\n",
       "      <td>1.000000</td>\n",
       "      <td>0.775133</td>\n",
       "      <td>1.000000</td>\n",
       "      <td>0.406050</td>\n",
       "    </tr>\n",
       "    <tr>\n",
       "      <th>Max_Frequence</th>\n",
       "      <td>0.056322</td>\n",
       "      <td>0.810986</td>\n",
       "      <td>0.406050</td>\n",
       "      <td>0.406050</td>\n",
       "      <td>0.406050</td>\n",
       "      <td>0.810986</td>\n",
       "      <td>0.406050</td>\n",
       "      <td>1.000000</td>\n",
       "    </tr>\n",
       "  </tbody>\n",
       "</table>\n",
       "</div>"
      ],
      "text/plain": [
       "                          age    Length  Unique_Value  Unique_from_the_Avg  \\\n",
       "age                  1.000000  0.081781      0.078462             0.078462   \n",
       "Length               0.081781  1.000000      0.775133             0.775133   \n",
       "Unique_Value         0.078462  0.775133      1.000000             1.000000   \n",
       "Unique_from_the_Avg  0.078462  0.775133      1.000000             1.000000   \n",
       "Unique_volatility    0.078462  0.775133      1.000000             1.000000   \n",
       "Length_from_the_Avg  0.081781  1.000000      0.775133             0.775133   \n",
       "Length_volatility    0.078462  0.775133      1.000000             1.000000   \n",
       "Max_Frequence        0.056322  0.810986      0.406050             0.406050   \n",
       "\n",
       "                     Unique_volatility  Length_from_the_Avg  \\\n",
       "age                           0.078462             0.081781   \n",
       "Length                        0.775133             1.000000   \n",
       "Unique_Value                  1.000000             0.775133   \n",
       "Unique_from_the_Avg           1.000000             0.775133   \n",
       "Unique_volatility             1.000000             0.775133   \n",
       "Length_from_the_Avg           0.775133             1.000000   \n",
       "Length_volatility             1.000000             0.775133   \n",
       "Max_Frequence                 0.406050             0.810986   \n",
       "\n",
       "                     Length_volatility  Max_Frequence  \n",
       "age                           0.078462       0.056322  \n",
       "Length                        0.775133       0.810986  \n",
       "Unique_Value                  1.000000       0.406050  \n",
       "Unique_from_the_Avg           1.000000       0.406050  \n",
       "Unique_volatility             1.000000       0.406050  \n",
       "Length_from_the_Avg           0.775133       0.810986  \n",
       "Length_volatility             1.000000       0.406050  \n",
       "Max_Frequence                 0.406050       1.000000  "
      ]
     },
     "execution_count": 906,
     "metadata": {},
     "output_type": "execute_result"
    }
   ],
   "source": [
    "data.corr()"
   ]
  },
  {
   "cell_type": "code",
   "execution_count": 907,
   "metadata": {},
   "outputs": [],
   "source": [
    "del data['Length']"
   ]
  },
  {
   "cell_type": "markdown",
   "metadata": {},
   "source": [
    "# Modeling Section "
   ]
  },
  {
   "cell_type": "markdown",
   "metadata": {},
   "source": [
    "### Note :  "
   ]
  },
  {
   "cell_type": "markdown",
   "metadata": {},
   "source": [
    "Since the objective of the exercice is to predict both variables Age and Sex, we should \n",
    "\n",
    "evaluate in which order the modeling should be designed. In fact, the results of predicting \n",
    "\n",
    "sex and age will highly rely on having the sex and age variable or not. "
   ]
  },
  {
   "cell_type": "markdown",
   "metadata": {},
   "source": [
    "### Finding : "
   ]
  },
  {
   "cell_type": "markdown",
   "metadata": {},
   "source": [
    "Predicting Age in first is more relevant since the MSE using sex or not to predict \n",
    "\n",
    "Age has not impact. In fact, the difference is less than 0.001"
   ]
  },
  {
   "cell_type": "markdown",
   "metadata": {},
   "source": [
    "## Modeling Sex Using Age variable"
   ]
  },
  {
   "cell_type": "code",
   "execution_count": 908,
   "metadata": {},
   "outputs": [
    {
     "data": {
      "text/plain": [
       "Index(['age', 'sex', 'Unique_Value', 'Unique_from_the_Avg',\n",
       "       'Unique_volatility', 'Length_from_the_Avg', 'Length_volatility',\n",
       "       'Max_Frequence'],\n",
       "      dtype='object')"
      ]
     },
     "execution_count": 908,
     "metadata": {},
     "output_type": "execute_result"
    }
   ],
   "source": [
    "data.columns"
   ]
  },
  {
   "cell_type": "code",
   "execution_count": 909,
   "metadata": {},
   "outputs": [],
   "source": [
    "#data = pd.get_dummies(data, columns=['Typology'], drop_first = False)"
   ]
  },
  {
   "cell_type": "code",
   "execution_count": 924,
   "metadata": {},
   "outputs": [],
   "source": [
    "X = data.loc[:, data.columns !=\"sex\"]\n",
    "y = data.loc[:, data.columns ==\"sex\"]"
   ]
  },
  {
   "cell_type": "code",
   "execution_count": 926,
   "metadata": {},
   "outputs": [],
   "source": [
    "y = pd.get_dummies(y, drop_first=True)"
   ]
  },
  {
   "cell_type": "code",
   "execution_count": 912,
   "metadata": {},
   "outputs": [],
   "source": [
    "from sklearn.model_selection import train_test_split\n",
    "X_train, X_test, y_train, y_test = train_test_split(X,y,test_size = 0.25, random_state = 0, stratify = y)"
   ]
  },
  {
   "cell_type": "code",
   "execution_count": 913,
   "metadata": {},
   "outputs": [
    {
     "name": "stderr",
     "output_type": "stream",
     "text": [
      "/anaconda3/lib/python3.7/site-packages/ipykernel_launcher.py:3: DataConversionWarning: A column-vector y was passed when a 1d array was expected. Please change the shape of y to (n_samples,), for example using ravel().\n",
      "  This is separate from the ipykernel package so we can avoid doing imports until\n"
     ]
    }
   ],
   "source": [
    "from sklearn.ensemble import RandomForestClassifier\n",
    "rfc = RandomForestClassifier(random_state=0, n_estimators=100)\n",
    "rfc.fit(X_train, y_train)\n",
    "pred_rfc = rfc.predict(X_test)"
   ]
  },
  {
   "cell_type": "code",
   "execution_count": 914,
   "metadata": {},
   "outputs": [
    {
     "name": "stdout",
     "output_type": "stream",
     "text": [
      "              precision    recall  f1-score   support\n",
      "\n",
      "           0       0.50      0.45      0.47       486\n",
      "           1       0.55      0.59      0.57       547\n",
      "\n",
      "    accuracy                           0.53      1033\n",
      "   macro avg       0.52      0.52      0.52      1033\n",
      "weighted avg       0.52      0.53      0.52      1033\n",
      "\n"
     ]
    }
   ],
   "source": [
    "from sklearn.metrics import classification_report\n",
    "print(classification_report(y_test, pred_rfc))"
   ]
  },
  {
   "cell_type": "code",
   "execution_count": 915,
   "metadata": {},
   "outputs": [
    {
     "name": "stdout",
     "output_type": "stream",
     "text": [
      "[[220 266]\n",
      " [223 324]]\n"
     ]
    }
   ],
   "source": [
    "from sklearn.metrics import confusion_matrix\n",
    "print(confusion_matrix(y_test, pred_rfc))"
   ]
  },
  {
   "cell_type": "code",
   "execution_count": 916,
   "metadata": {},
   "outputs": [
    {
     "data": {
      "image/png": "[encoded data removed]",
      "text/plain": [
       "<Figure size 432x288 with 1 Axes>"
      ]
     },
     "metadata": {
      "needs_background": "light"
     },
     "output_type": "display_data"
    }
   ],
   "source": [
    "from sklearn.metrics import roc_auc_score \n",
    "from sklearn.metrics import roc_curve \n",
    "import matplotlib.pyplot as plt\n",
    "\n",
    "logit_roc_auc = roc_auc_score(y, rfc.predict(X)) \n",
    "\n",
    "plt.figure() \n",
    "fpr, tpr, thresholds = roc_curve(y, rfc.predict_proba(X)[:,1]) \n",
    "plt.plot(fpr, tpr, label='Random Forest (area = %0.2f)' % logit_roc_auc) \n",
    "plt.plot([0, 1], [0, 1],'r--') \n",
    "plt.xlim([0.0, 1.0]) \n",
    "plt.ylim([0.0, 1.05]) \n",
    "plt.xlabel('False Positive Rate') \n",
    "plt.ylabel('True Positive Rate') \n",
    "plt.title('Receiver operating characteristic') \n",
    "plt.legend(loc=\"lower right\") \n",
    "plt.savefig('Log_ROC') \n",
    "plt.show()"
   ]
  },
  {
   "cell_type": "markdown",
   "metadata": {},
   "source": [
    "## Modeling Sex without Age variable"
   ]
  },
  {
   "cell_type": "code",
   "execution_count": 687,
   "metadata": {},
   "outputs": [],
   "source": [
    "data_Sex_w_Age = df[['sex', 'Length',\n",
    "       'Unique_Value', 'Unique_from_the_Avg',\n",
    "       'Unique_volatility', 'Length_from_the_Avg', 'Length_volatility',\n",
    "       'Max_Frequence']].copy()"
   ]
  },
  {
   "cell_type": "code",
   "execution_count": 688,
   "metadata": {},
   "outputs": [],
   "source": [
    "data_Sex_w_Age = pd.get_dummies(data_Sex_w_Age, columns=['sex','Typology'])"
   ]
  },
  {
   "cell_type": "code",
   "execution_count": 689,
   "metadata": {},
   "outputs": [],
   "source": [
    "X_w_Age = data_Sex_w_Age.loc[:, data_Sex_w_Age.columns !=\"sex\"]\n",
    "y_w_Age = data_Sex_w_Age.loc[:, data_Sex_w_Age.columns ==\"sex\"]"
   ]
  },
  {
   "cell_type": "code",
   "execution_count": 690,
   "metadata": {},
   "outputs": [],
   "source": [
    "y_w_Age = pd.get_dummies(y_w_Age, drop_first=True)"
   ]
  },
  {
   "cell_type": "code",
   "execution_count": 691,
   "metadata": {},
   "outputs": [],
   "source": [
    "from sklearn.model_selection import train_test_split\n",
    "X_train, X_test, y_train, y_test = train_test_split(X_w_Age,y_w_Age,test_size = 0.25, random_state = 0)"
   ]
  },
  {
   "cell_type": "code",
   "execution_count": 692,
   "metadata": {},
   "outputs": [
    {
     "name": "stderr",
     "output_type": "stream",
     "text": [
      "/anaconda3/lib/python3.7/site-packages/ipykernel_launcher.py:3: DataConversionWarning: A column-vector y was passed when a 1d array was expected. Please change the shape of y to (n_samples,), for example using ravel().\n",
      "  This is separate from the ipykernel package so we can avoid doing imports until\n"
     ]
    }
   ],
   "source": [
    "from sklearn.ensemble import RandomForestClassifier\n",
    "rfc_w_Age = RandomForestClassifier(random_state=0, n_estimators=100)\n",
    "rfc_w_Age.fit(X_train, y_train)\n",
    "pred_rfc_w_Age = rfc_w_Age.predict(X_test)"
   ]
  },
  {
   "cell_type": "code",
   "execution_count": 693,
   "metadata": {},
   "outputs": [
    {
     "name": "stdout",
     "output_type": "stream",
     "text": [
      "              precision    recall  f1-score   support\n",
      "\n",
      "           0       0.51      0.44      0.47       525\n",
      "           1       0.51      0.58      0.55       533\n",
      "\n",
      "    accuracy                           0.51      1058\n",
      "   macro avg       0.51      0.51      0.51      1058\n",
      "weighted avg       0.51      0.51      0.51      1058\n",
      "\n"
     ]
    }
   ],
   "source": [
    "from sklearn.metrics import classification_report\n",
    "print(classification_report(y_test, pred_rfc_w_Age))"
   ]
  },
  {
   "cell_type": "code",
   "execution_count": 694,
   "metadata": {},
   "outputs": [
    {
     "data": {
      "image/png": "[encoded data removed]",
      "text/plain": [
       "<Figure size 432x288 with 1 Axes>"
      ]
     },
     "metadata": {
      "needs_background": "light"
     },
     "output_type": "display_data"
    }
   ],
   "source": [
    "from sklearn.metrics import roc_auc_score \n",
    "from sklearn.metrics import roc_curve \n",
    "import matplotlib.pyplot as plt\n",
    "\n",
    "logit_roc_auc = roc_auc_score(y_w_Age, rfc_w_Age.predict(X_w_Age)) \n",
    "\n",
    "plt.figure() \n",
    "fpr, tpr, thresholds = roc_curve(y_w_Age, rfc_w_Age.predict_proba(X_w_Age)[:,1]) \n",
    "plt.plot(fpr, tpr, label='Random Forest (area = %0.2f)' % logit_roc_auc) \n",
    "plt.plot([0, 1], [0, 1],'r--') \n",
    "plt.xlim([0.0, 1.0]) \n",
    "plt.ylim([0.0, 1.05]) \n",
    "plt.xlabel('False Positive Rate') \n",
    "plt.ylabel('True Positive Rate') \n",
    "plt.title('Receiver operating characteristic') \n",
    "plt.legend(loc=\"lower right\") \n",
    "plt.savefig('Log_ROC') \n",
    "plt.show()"
   ]
  },
  {
   "cell_type": "markdown",
   "metadata": {},
   "source": [
    "## Modeling Age using Sex variable"
   ]
  },
  {
   "cell_type": "code",
   "execution_count": 695,
   "metadata": {},
   "outputs": [],
   "source": [
    "# Creating a dataset for Age \n",
    "data_Age = df[['age', 'sex',\n",
    "       'Unique_Value', 'Unique_from_the_Avg',\n",
    "       'Unique_volatility', 'Length_from_the_Avg', 'Length_volatility',\n",
    "       'Max_Frequence', 'Typology']].copy()"
   ]
  },
  {
   "cell_type": "code",
   "execution_count": 696,
   "metadata": {},
   "outputs": [],
   "source": [
    "data_Age = pd.get_dummies(data_Age, columns=['sex','Typology'])"
   ]
  },
  {
   "cell_type": "code",
   "execution_count": 697,
   "metadata": {},
   "outputs": [],
   "source": [
    "X_AGE = data_Age.loc[:, data_Age.columns !=\"age\"]\n",
    "y_AGE = data_Age.loc[:, data_Age.columns ==\"age\"]"
   ]
  },
  {
   "cell_type": "code",
   "execution_count": 698,
   "metadata": {},
   "outputs": [],
   "source": [
    "from sklearn.model_selection import train_test_split\n",
    "X_train_AGE, X_test_AGE, y_train_AGE, y_test_AGE = train_test_split(X_AGE,y_AGE,test_size = 0.25, random_state=0)"
   ]
  },
  {
   "cell_type": "code",
   "execution_count": 699,
   "metadata": {},
   "outputs": [],
   "source": [
    "from sklearn.linear_model import LinearRegression\n",
    "regressor = LinearRegression ()\n",
    "regressor.fit(X_train_AGE,y_train_AGE)\n",
    "y_pred = regressor.predict(X_test_AGE)"
   ]
  },
  {
   "cell_type": "code",
   "execution_count": 700,
   "metadata": {},
   "outputs": [
    {
     "data": {
      "text/plain": [
       "171.90513259221774"
      ]
     },
     "execution_count": 700,
     "metadata": {},
     "output_type": "execute_result"
    }
   ],
   "source": [
    "from sklearn.metrics import mean_squared_error\n",
    "mean_squared_error(y_test_AGE, y_pred)"
   ]
  },
  {
   "cell_type": "markdown",
   "metadata": {},
   "source": [
    "## Modeling Age without Sex variable"
   ]
  },
  {
   "cell_type": "code",
   "execution_count": 756,
   "metadata": {},
   "outputs": [],
   "source": [
    "data_w_Sex = df[['age',\n",
    "       'Unique_Value', 'Unique_from_the_Avg',\n",
    "       'Unique_volatility', 'Length_from_the_Avg', 'Length_volatility',\n",
    "       'Max_Frequence']].copy()"
   ]
  },
  {
   "cell_type": "code",
   "execution_count": 757,
   "metadata": {},
   "outputs": [],
   "source": [
    "#data_w_Sex = pd.get_dummies(data_w_Sex, columns=['Typology'], drop_first = False)"
   ]
  },
  {
   "cell_type": "code",
   "execution_count": 758,
   "metadata": {},
   "outputs": [],
   "source": [
    "X_w_SEX = data_w_Sex.loc[:, data_w_Sex.columns !=\"age\"]\n",
    "y_w_SEX = data_w_Sex.loc[:, data_w_Sex.columns ==\"age\"]"
   ]
  },
  {
   "cell_type": "code",
   "execution_count": 759,
   "metadata": {},
   "outputs": [],
   "source": [
    "from sklearn.model_selection import train_test_split\n",
    "X_train_w_AGE, X_test_w_AGE, y_train_w_AGE, y_test_w_AGE = train_test_split(X_w_SEX,y_w_SEX,test_size = 0.25, random_state=0)"
   ]
  },
  {
   "cell_type": "code",
   "execution_count": 767,
   "metadata": {},
   "outputs": [],
   "source": [
    "from sklearn.linear_model import LinearRegression\n",
    "regressor = LinearRegression ()\n",
    "regressor.fit(X_train_w_AGE,y_train_w_AGE)\n",
    "y_pred_w_SEX = regressor.predict(X_test_w_AGE)"
   ]
  },
  {
   "cell_type": "code",
   "execution_count": 761,
   "metadata": {},
   "outputs": [
    {
     "data": {
      "text/plain": [
       "171.1552624563122"
      ]
     },
     "execution_count": 761,
     "metadata": {},
     "output_type": "execute_result"
    }
   ],
   "source": [
    "from sklearn.metrics import mean_squared_error\n",
    "mean_squared_error(y_test_w_AGE, y_pred_w_SEX)"
   ]
  },
  {
   "cell_type": "markdown",
   "metadata": {},
   "source": [
    "# Test set"
   ]
  },
  {
   "cell_type": "code",
   "execution_count": 707,
   "metadata": {},
   "outputs": [],
   "source": [
    "test = pd.read_csv(\"/Users/antoineguerrini/Downloads/test_2.csv\",error_bad_lines=False)"
   ]
  },
  {
   "cell_type": "code",
   "execution_count": 708,
   "metadata": {},
   "outputs": [],
   "source": [
    "test1 = test.sample(frac=0.015, replace=True, random_state=42)"
   ]
  },
  {
   "cell_type": "code",
   "execution_count": 709,
   "metadata": {},
   "outputs": [],
   "source": [
    "test1.to_excel('test1.xlsx')"
   ]
  },
  {
   "cell_type": "code",
   "execution_count": 726,
   "metadata": {},
   "outputs": [],
   "source": [
    "df_test = pd.read_excel(\"/Users/antoineguerrini/Desktop/test1.xlsx\", error_bad_lines=False)"
   ]
  },
  {
   "cell_type": "code",
   "execution_count": 727,
   "metadata": {},
   "outputs": [
    {
     "data": {
      "text/plain": [
       "(4229, 17)"
      ]
     },
     "execution_count": 727,
     "metadata": {},
     "output_type": "execute_result"
    }
   ],
   "source": [
    "df_test.dropna(subset=['keywords'], inplace=True)"
   ]
  },
  {
   "cell_type": "code",
   "execution_count": 728,
   "metadata": {},
   "outputs": [],
   "source": [
    "from nltk.corpus import stopwords\n",
    "c = stopwords.words('french')"
   ]
  },
  {
   "cell_type": "code",
   "execution_count": 729,
   "metadata": {},
   "outputs": [],
   "source": [
    "import string\n",
    "nopunc = [char for char in df_test if char not in string.punctuation]"
   ]
  },
  {
   "cell_type": "code",
   "execution_count": 730,
   "metadata": {},
   "outputs": [],
   "source": [
    "df_test[\"Full_Wording\"] = df_test[\"keywords\"].apply(processing)"
   ]
  },
  {
   "cell_type": "code",
   "execution_count": 733,
   "metadata": {},
   "outputs": [],
   "source": [
    "preparation(df_test)"
   ]
  },
  {
   "cell_type": "code",
   "execution_count": 734,
   "metadata": {},
   "outputs": [],
   "source": [
    "df_test = df_test.query('Max_Frequence > 1')"
   ]
  },
  {
   "cell_type": "code",
   "execution_count": 735,
   "metadata": {},
   "outputs": [],
   "source": [
    "wording_preparation(df_test)"
   ]
  },
  {
   "cell_type": "code",
   "execution_count": 874,
   "metadata": {},
   "outputs": [],
   "source": [
    "Test_Sex = df_test[['Unique_Value', 'Unique_from_the_Avg',\n",
    "       'Unique_volatility', 'Length_from_the_Avg', 'Length_volatility',\n",
    "       'Max_Frequence']].copy()"
   ]
  },
  {
   "cell_type": "code",
   "execution_count": 875,
   "metadata": {},
   "outputs": [
    {
     "data": {
      "text/plain": [
       "Unique_Value             int64\n",
       "Unique_from_the_Avg    float64\n",
       "Unique_volatility      float64\n",
       "Length_from_the_Avg    float64\n",
       "Length_volatility      float64\n",
       "Max_Frequence            int64\n",
       "dtype: object"
      ]
     },
     "execution_count": 875,
     "metadata": {},
     "output_type": "execute_result"
    }
   ],
   "source": [
    "Test_Sex.dtypes"
   ]
  },
  {
   "cell_type": "code",
   "execution_count": 877,
   "metadata": {},
   "outputs": [],
   "source": [
    "predictions = regressor.predict(Test_Sex)"
   ]
  },
  {
   "cell_type": "code",
   "execution_count": 878,
   "metadata": {},
   "outputs": [],
   "source": [
    "Test_Sex['age'] = predictions"
   ]
  },
  {
   "cell_type": "code",
   "execution_count": 943,
   "metadata": {},
   "outputs": [
    {
     "data": {
      "text/plain": [
       "2     45.702184\n",
       "4     48.432238\n",
       "8     45.720842\n",
       "13    45.586274\n",
       "15    45.658930\n",
       "Name: age, dtype: float64"
      ]
     },
     "execution_count": 943,
     "metadata": {},
     "output_type": "execute_result"
    }
   ],
   "source": [
    "Test_Sex['age'].head()"
   ]
  },
  {
   "cell_type": "code",
   "execution_count": 880,
   "metadata": {},
   "outputs": [
    {
     "data": {
      "text/plain": [
       "Unique_Value           0\n",
       "Unique_from_the_Avg    0\n",
       "Unique_volatility      0\n",
       "Length_from_the_Avg    0\n",
       "Length_volatility      0\n",
       "Max_Frequence          0\n",
       "age                    0\n",
       "dtype: int64"
      ]
     },
     "execution_count": 880,
     "metadata": {},
     "output_type": "execute_result"
    }
   ],
   "source": [
    "Test_Sex.isnull().sum()"
   ]
  },
  {
   "cell_type": "code",
   "execution_count": 917,
   "metadata": {},
   "outputs": [],
   "source": [
    "Test_Gender = df_test[['Unique_Value', 'Unique_from_the_Avg',\n",
    "       'Unique_volatility', 'Length_from_the_Avg', 'Length_volatility',\n",
    "       'Max_Frequence']].copy()"
   ]
  },
  {
   "cell_type": "code",
   "execution_count": 918,
   "metadata": {},
   "outputs": [],
   "source": [
    "Test_Gender['age'] = Test_Sex['age']"
   ]
  },
  {
   "cell_type": "code",
   "execution_count": 920,
   "metadata": {},
   "outputs": [],
   "source": [
    "predictions_gender = pd.DataFrame(rfc.predict(Test_Gender))"
   ]
  },
  {
   "cell_type": "code",
   "execution_count": 922,
   "metadata": {},
   "outputs": [],
   "source": [
    "Test_Gender['sex'] = predictions_gender"
   ]
  },
  {
   "cell_type": "code",
   "execution_count": 937,
   "metadata": {},
   "outputs": [
    {
     "data": {
      "text/html": [
       "<div>\n",
       "<style scoped>\n",
       "    .dataframe tbody tr th:only-of-type {\n",
       "        vertical-align: middle;\n",
       "    }\n",
       "\n",
       "    .dataframe tbody tr th {\n",
       "        vertical-align: top;\n",
       "    }\n",
       "\n",
       "    .dataframe thead th {\n",
       "        text-align: right;\n",
       "    }\n",
       "</style>\n",
       "<table border=\"1\" class=\"dataframe\">\n",
       "  <thead>\n",
       "    <tr style=\"text-align: right;\">\n",
       "      <th></th>\n",
       "      <th>Unique_Value</th>\n",
       "      <th>Unique_from_the_Avg</th>\n",
       "      <th>Unique_volatility</th>\n",
       "      <th>Length_from_the_Avg</th>\n",
       "      <th>Length_volatility</th>\n",
       "      <th>Max_Frequence</th>\n",
       "      <th>age</th>\n",
       "      <th>sex</th>\n",
       "    </tr>\n",
       "  </thead>\n",
       "  <tbody>\n",
       "    <tr>\n",
       "      <th>2</th>\n",
       "      <td>12</td>\n",
       "      <td>-5.572585</td>\n",
       "      <td>0.393298</td>\n",
       "      <td>-28.58252</td>\n",
       "      <td>0.093399</td>\n",
       "      <td>2</td>\n",
       "      <td>45.702184</td>\n",
       "      <td>M</td>\n",
       "    </tr>\n",
       "    <tr>\n",
       "      <th>4</th>\n",
       "      <td>112</td>\n",
       "      <td>94.427415</td>\n",
       "      <td>3.670781</td>\n",
       "      <td>675.41748</td>\n",
       "      <td>0.871720</td>\n",
       "      <td>43</td>\n",
       "      <td>48.432238</td>\n",
       "      <td>M</td>\n",
       "    </tr>\n",
       "    <tr>\n",
       "      <th>8</th>\n",
       "      <td>11</td>\n",
       "      <td>-6.572585</td>\n",
       "      <td>0.360523</td>\n",
       "      <td>-24.58252</td>\n",
       "      <td>0.085615</td>\n",
       "      <td>3</td>\n",
       "      <td>45.720842</td>\n",
       "      <td>M</td>\n",
       "    </tr>\n",
       "    <tr>\n",
       "      <th>13</th>\n",
       "      <td>5</td>\n",
       "      <td>-12.572585</td>\n",
       "      <td>0.163874</td>\n",
       "      <td>-36.58252</td>\n",
       "      <td>0.038916</td>\n",
       "      <td>2</td>\n",
       "      <td>45.586274</td>\n",
       "      <td>M</td>\n",
       "    </tr>\n",
       "    <tr>\n",
       "      <th>15</th>\n",
       "      <td>7</td>\n",
       "      <td>-10.572585</td>\n",
       "      <td>0.229424</td>\n",
       "      <td>-33.58252</td>\n",
       "      <td>0.054483</td>\n",
       "      <td>3</td>\n",
       "      <td>45.658930</td>\n",
       "      <td>M</td>\n",
       "    </tr>\n",
       "  </tbody>\n",
       "</table>\n",
       "</div>"
      ],
      "text/plain": [
       "    Unique_Value  Unique_from_the_Avg  Unique_volatility  Length_from_the_Avg  \\\n",
       "2             12            -5.572585           0.393298            -28.58252   \n",
       "4            112            94.427415           3.670781            675.41748   \n",
       "8             11            -6.572585           0.360523            -24.58252   \n",
       "13             5           -12.572585           0.163874            -36.58252   \n",
       "15             7           -10.572585           0.229424            -33.58252   \n",
       "\n",
       "    Length_volatility  Max_Frequence        age sex  \n",
       "2            0.093399              2  45.702184   M  \n",
       "4            0.871720             43  48.432238   M  \n",
       "8            0.085615              3  45.720842   M  \n",
       "13           0.038916              2  45.586274   M  \n",
       "15           0.054483              3  45.658930   M  "
      ]
     },
     "execution_count": 937,
     "metadata": {},
     "output_type": "execute_result"
    }
   ],
   "source": [
    "Test_Gender.head()"
   ]
  },
  {
   "cell_type": "code",
   "execution_count": 942,
   "metadata": {},
   "outputs": [],
   "source": [
    "# Computing the sex\n",
    "\n",
    "sex = []\n",
    "\n",
    "for i in Test_Gender.sex:\n",
    "    if i == 0:\n",
    "        sex.append('F')\n",
    "    else:\n",
    "        sex.append('M')\n",
    "        \n",
    "Test_Gender['sex'] = sex"
   ]
  },
  {
   "cell_type": "markdown",
   "metadata": {},
   "source": [
    "# Exporting the outputs"
   ]
  },
  {
   "cell_type": "code",
   "execution_count": 939,
   "metadata": {},
   "outputs": [
    {
     "name": "stderr",
     "output_type": "stream",
     "text": [
      "/anaconda3/lib/python3.7/site-packages/ipykernel_launcher.py:2: SettingWithCopyWarning: \n",
      "A value is trying to be set on a copy of a slice from a DataFrame.\n",
      "Try using .loc[row_indexer,col_indexer] = value instead\n",
      "\n",
      "See the caveats in the documentation: http://pandas.pydata.org/pandas-docs/stable/user_guide/indexing.html#returning-a-view-versus-a-copy\n",
      "  \n"
     ]
    }
   ],
   "source": [
    "Results = Test_Gender[['sex','age']]\n",
    "Results['id'] = df_test['ID']"
   ]
  },
  {
   "cell_type": "code",
   "execution_count": 940,
   "metadata": {},
   "outputs": [
    {
     "data": {
      "text/html": [
       "<div>\n",
       "<style scoped>\n",
       "    .dataframe tbody tr th:only-of-type {\n",
       "        vertical-align: middle;\n",
       "    }\n",
       "\n",
       "    .dataframe tbody tr th {\n",
       "        vertical-align: top;\n",
       "    }\n",
       "\n",
       "    .dataframe thead th {\n",
       "        text-align: right;\n",
       "    }\n",
       "</style>\n",
       "<table border=\"1\" class=\"dataframe\">\n",
       "  <thead>\n",
       "    <tr style=\"text-align: right;\">\n",
       "      <th></th>\n",
       "      <th>sex</th>\n",
       "      <th>age</th>\n",
       "      <th>id</th>\n",
       "    </tr>\n",
       "  </thead>\n",
       "  <tbody>\n",
       "    <tr>\n",
       "      <th>2</th>\n",
       "      <td>M</td>\n",
       "      <td>45.702184</td>\n",
       "      <td>2229085</td>\n",
       "    </tr>\n",
       "    <tr>\n",
       "      <th>4</th>\n",
       "      <td>M</td>\n",
       "      <td>48.432238</td>\n",
       "      <td>1692744</td>\n",
       "    </tr>\n",
       "    <tr>\n",
       "      <th>8</th>\n",
       "      <td>M</td>\n",
       "      <td>45.720842</td>\n",
       "      <td>3097043</td>\n",
       "    </tr>\n",
       "    <tr>\n",
       "      <th>13</th>\n",
       "      <td>M</td>\n",
       "      <td>45.586274</td>\n",
       "      <td>2272356</td>\n",
       "    </tr>\n",
       "    <tr>\n",
       "      <th>15</th>\n",
       "      <td>M</td>\n",
       "      <td>45.658930</td>\n",
       "      <td>278168</td>\n",
       "    </tr>\n",
       "  </tbody>\n",
       "</table>\n",
       "</div>"
      ],
      "text/plain": [
       "   sex        age       id\n",
       "2    M  45.702184  2229085\n",
       "4    M  48.432238  1692744\n",
       "8    M  45.720842  3097043\n",
       "13   M  45.586274  2272356\n",
       "15   M  45.658930   278168"
      ]
     },
     "execution_count": 940,
     "metadata": {},
     "output_type": "execute_result"
    }
   ],
   "source": [
    "Results.head()"
   ]
  },
  {
   "cell_type": "code",
   "execution_count": 941,
   "metadata": {},
   "outputs": [],
   "source": [
    "Results.to_csv('Results_On_Test_Subset.csv')"
   ]
  }
 ],
 "metadata": {
  "kernelspec": {
   "display_name": "Python 3",
   "language": "python",
   "name": "python3"
  },
  "language_info": {
   "codemirror_mode": {
    "name": "ipython",
    "version": 3
   },
   "file_extension": ".py",
   "mimetype": "text/x-python",
   "name": "python",
   "nbconvert_exporter": "python",
   "pygments_lexer": "ipython3",
   "version": "3.7.3"
  }
 },
 "nbformat": 4,
 "nbformat_minor": 4
}
